{
 "cells": [
  {
   "cell_type": "markdown",
   "metadata": {},
   "source": [
    "# Pandas_Introduction\n",
    "\n",
    "This is a quick overview of using pandas as a tool for data and statistical analaysis. Covid-19 data is drawn from the state of Tennessee to use for demonstration. \n",
    "This is based upon the [pandas_fun](https://github.com/chrisiacovella/pandas_fun) repository.  For a more detailed tutorial on pandas see [this tutorial](https://github.com/stefmolin/pandas-workshop).\n"
   ]
  },
  {
   "cell_type": "code",
   "execution_count": 1,
   "metadata": {},
   "outputs": [],
   "source": [
    "import pandas as pd\n",
    "import matplotlib.pyplot as plt\n",
    "import numpy as np\n",
    "from scipy.optimize import curve_fit"
   ]
  },
  {
   "cell_type": "markdown",
   "metadata": {},
   "source": [
    "## Converting a dictionary to a Pandas dataframe\n",
    "Let us define some data as a simple dictionary and then convert it to a pandas dataframe"
   ]
  },
  {
   "cell_type": "code",
   "execution_count": 4,
   "metadata": {},
   "outputs": [],
   "source": [
    "data_dict = { \n",
    "\t'run1': [360, 0.91, 20.1],\n",
    "\t'run2': [305, 0.98, 22.0]\n",
    "}"
   ]
  },
  {
   "cell_type": "markdown",
   "metadata": {},
   "source": [
    "This dictionary can be easily converted  to a pandas dataframe.  We can also pass labels via \"index\", to define what each of the entries in the array correspond to, which will also allow us to more easily search for specific data."
   ]
  },
  {
   "cell_type": "code",
   "execution_count": 5,
   "metadata": {},
   "outputs": [],
   "source": [
    "data_frame = pd.DataFrame(data_dict, index=['T', 'S2', 'angle'])"
   ]
  },
  {
   "cell_type": "markdown",
   "metadata": {},
   "source": [
    "Pands makes it easy to output this as a table."
   ]
  },
  {
   "cell_type": "code",
   "execution_count": 6,
   "metadata": {},
   "outputs": [
    {
     "data": {
      "text/html": [
       "<div>\n",
       "<style scoped>\n",
       "    .dataframe tbody tr th:only-of-type {\n",
       "        vertical-align: middle;\n",
       "    }\n",
       "\n",
       "    .dataframe tbody tr th {\n",
       "        vertical-align: top;\n",
       "    }\n",
       "\n",
       "    .dataframe thead th {\n",
       "        text-align: right;\n",
       "    }\n",
       "</style>\n",
       "<table border=\"1\" class=\"dataframe\">\n",
       "  <thead>\n",
       "    <tr style=\"text-align: right;\">\n",
       "      <th></th>\n",
       "      <th>run1</th>\n",
       "      <th>run2</th>\n",
       "    </tr>\n",
       "  </thead>\n",
       "  <tbody>\n",
       "    <tr>\n",
       "      <th>T</th>\n",
       "      <td>360.00</td>\n",
       "      <td>305.00</td>\n",
       "    </tr>\n",
       "    <tr>\n",
       "      <th>S2</th>\n",
       "      <td>0.91</td>\n",
       "      <td>0.98</td>\n",
       "    </tr>\n",
       "    <tr>\n",
       "      <th>angle</th>\n",
       "      <td>20.10</td>\n",
       "      <td>22.00</td>\n",
       "    </tr>\n",
       "  </tbody>\n",
       "</table>\n",
       "</div>"
      ],
      "text/plain": [
       "         run1    run2\n",
       "T      360.00  305.00\n",
       "S2       0.91    0.98\n",
       "angle   20.10   22.00"
      ]
     },
     "execution_count": 6,
     "metadata": {},
     "output_type": "execute_result"
    }
   ],
   "source": [
    "data_frame"
   ]
  },
  {
   "cell_type": "markdown",
   "metadata": {},
   "source": [
    "If we use the print function the output is basically the same, just not quite as nicely formatted. "
   ]
  },
  {
   "cell_type": "code",
   "execution_count": 7,
   "metadata": {},
   "outputs": [
    {
     "name": "stdout",
     "output_type": "stream",
     "text": [
      "         run1    run2\n",
      "T      360.00  305.00\n",
      "S2       0.91    0.98\n",
      "angle   20.10   22.00\n"
     ]
    }
   ],
   "source": [
    "print(data_frame)"
   ]
  },
  {
   "cell_type": "markdown",
   "metadata": {},
   "source": [
    "The display function will output the nicely formatted table."
   ]
  },
  {
   "cell_type": "code",
   "execution_count": 8,
   "metadata": {},
   "outputs": [
    {
     "data": {
      "text/html": [
       "<div>\n",
       "<style scoped>\n",
       "    .dataframe tbody tr th:only-of-type {\n",
       "        vertical-align: middle;\n",
       "    }\n",
       "\n",
       "    .dataframe tbody tr th {\n",
       "        vertical-align: top;\n",
       "    }\n",
       "\n",
       "    .dataframe thead th {\n",
       "        text-align: right;\n",
       "    }\n",
       "</style>\n",
       "<table border=\"1\" class=\"dataframe\">\n",
       "  <thead>\n",
       "    <tr style=\"text-align: right;\">\n",
       "      <th></th>\n",
       "      <th>run1</th>\n",
       "      <th>run2</th>\n",
       "    </tr>\n",
       "  </thead>\n",
       "  <tbody>\n",
       "    <tr>\n",
       "      <th>T</th>\n",
       "      <td>360.00</td>\n",
       "      <td>305.00</td>\n",
       "    </tr>\n",
       "    <tr>\n",
       "      <th>S2</th>\n",
       "      <td>0.91</td>\n",
       "      <td>0.98</td>\n",
       "    </tr>\n",
       "    <tr>\n",
       "      <th>angle</th>\n",
       "      <td>20.10</td>\n",
       "      <td>22.00</td>\n",
       "    </tr>\n",
       "  </tbody>\n",
       "</table>\n",
       "</div>"
      ],
      "text/plain": [
       "         run1    run2\n",
       "T      360.00  305.00\n",
       "S2       0.91    0.98\n",
       "angle   20.10   22.00"
      ]
     },
     "metadata": {},
     "output_type": "display_data"
    }
   ],
   "source": [
    "display(data_frame)"
   ]
  },
  {
   "cell_type": "markdown",
   "metadata": {},
   "source": [
    "## Extracting information\n",
    "Let's now examine how to extract information from the dataframe.   \n",
    "\n",
    "To get info for a single entry that was define in our original dict, we can just use the name of that key as the index."
   ]
  },
  {
   "cell_type": "code",
   "execution_count": 9,
   "metadata": {},
   "outputs": [
    {
     "data": {
      "text/plain": [
       "T        360.00\n",
       "S2         0.91\n",
       "angle     20.10\n",
       "Name: run1, dtype: float64"
      ]
     },
     "execution_count": 9,
     "metadata": {},
     "output_type": "execute_result"
    }
   ],
   "source": [
    "data_frame['run1']"
   ]
  },
  {
   "cell_type": "markdown",
   "metadata": {},
   "source": [
    "To get the Temperature info from each of the runs, we access the data a little bit differently, using the \"loc\" command.  Here, we will take advantage of the fact that when we created the pandas dataframe from the dictionary, we  defined index labels."
   ]
  },
  {
   "cell_type": "code",
   "execution_count": 11,
   "metadata": {},
   "outputs": [
    {
     "data": {
      "text/plain": [
       "run1    360.0\n",
       "run2    305.0\n",
       "Name: T, dtype: float64"
      ]
     },
     "execution_count": 11,
     "metadata": {},
     "output_type": "execute_result"
    }
   ],
   "source": [
    "data_frame.loc['T']"
   ]
  },
  {
   "cell_type": "markdown",
   "metadata": {},
   "source": [
    "These two ways of access data can be combined, e.g., to print out the temperature of run1."
   ]
  },
  {
   "cell_type": "code",
   "execution_count": 12,
   "metadata": {},
   "outputs": [
    {
     "data": {
      "text/plain": [
       "360.0"
      ]
     },
     "execution_count": 12,
     "metadata": {},
     "output_type": "execute_result"
    }
   ],
   "source": [
    "data_frame['run1'].loc['T']"
   ]
  },
  {
   "cell_type": "markdown",
   "metadata": {},
   "source": [
    "Alternatively, to access the temperature of run1, we can think of this as a 2d array, passing the index label, or, since  T is the first entry, using an integer index of 0:"
   ]
  },
  {
   "cell_type": "code",
   "execution_count": 13,
   "metadata": {},
   "outputs": [
    {
     "data": {
      "text/plain": [
       "360.0"
      ]
     },
     "execution_count": 13,
     "metadata": {},
     "output_type": "execute_result"
    }
   ],
   "source": [
    "data_frame['run1'][0]"
   ]
  },
  {
   "cell_type": "code",
   "execution_count": 14,
   "metadata": {},
   "outputs": [
    {
     "data": {
      "text/plain": [
       "360.0"
      ]
     },
     "execution_count": 14,
     "metadata": {},
     "output_type": "execute_result"
    }
   ],
   "source": [
    "data_frame['run1']['T']"
   ]
  },
  {
   "cell_type": "markdown",
   "metadata": {},
   "source": [
    "## Read/writing CSV files\n",
    "Pandas includes functions that make it trivial to write to common file formats.  For example, to write a dataframe to CSV file:"
   ]
  },
  {
   "cell_type": "code",
   "execution_count": 23,
   "metadata": {},
   "outputs": [],
   "source": [
    "data_frame.to_csv(r'test_data.csv', index=True)"
   ]
  },
  {
   "cell_type": "markdown",
   "metadata": {},
   "source": [
    "We can also read directly from a CSV file"
   ]
  },
  {
   "cell_type": "code",
   "execution_count": 28,
   "metadata": {},
   "outputs": [],
   "source": [
    "data_frame_from_csv = pd.read_csv('test_data.csv',index_col=0)"
   ]
  },
  {
   "cell_type": "markdown",
   "metadata": {},
   "source": [
    "If we print the dataframe we just loaded, we will see it is identical to what we wrote. "
   ]
  },
  {
   "cell_type": "code",
   "execution_count": 29,
   "metadata": {},
   "outputs": [
    {
     "data": {
      "text/html": [
       "<div>\n",
       "<style scoped>\n",
       "    .dataframe tbody tr th:only-of-type {\n",
       "        vertical-align: middle;\n",
       "    }\n",
       "\n",
       "    .dataframe tbody tr th {\n",
       "        vertical-align: top;\n",
       "    }\n",
       "\n",
       "    .dataframe thead th {\n",
       "        text-align: right;\n",
       "    }\n",
       "</style>\n",
       "<table border=\"1\" class=\"dataframe\">\n",
       "  <thead>\n",
       "    <tr style=\"text-align: right;\">\n",
       "      <th></th>\n",
       "      <th>run1</th>\n",
       "      <th>run2</th>\n",
       "    </tr>\n",
       "  </thead>\n",
       "  <tbody>\n",
       "    <tr>\n",
       "      <th>T</th>\n",
       "      <td>360.00</td>\n",
       "      <td>305.00</td>\n",
       "    </tr>\n",
       "    <tr>\n",
       "      <th>S2</th>\n",
       "      <td>0.91</td>\n",
       "      <td>0.98</td>\n",
       "    </tr>\n",
       "    <tr>\n",
       "      <th>angle</th>\n",
       "      <td>20.10</td>\n",
       "      <td>22.00</td>\n",
       "    </tr>\n",
       "  </tbody>\n",
       "</table>\n",
       "</div>"
      ],
      "text/plain": [
       "         run1    run2\n",
       "T      360.00  305.00\n",
       "S2       0.91    0.98\n",
       "angle   20.10   22.00"
      ]
     },
     "execution_count": 29,
     "metadata": {},
     "output_type": "execute_result"
    }
   ],
   "source": [
    "data_frame_from_csv"
   ]
  },
  {
   "cell_type": "markdown",
   "metadata": {},
   "source": [
    "## Working with data in dataframes\n",
    "\n",
    "Let's create some totally fictitious data for T and PE for two different runs (data that most likely would be read in from a simulation energy file or the result of analysis by a code and wouldn't be defined by hand).  We will then make a dataframe for each run and then put these in a dictionary.   \n",
    "\n",
    "By using a dictionary we can again, hone in on specific pieces of information, like e.g., only run2"
   ]
  },
  {
   "cell_type": "code",
   "execution_count": 75,
   "metadata": {},
   "outputs": [],
   "source": [
    "run1_data = { \n",
    "\t'T': [300, 305, 310, 315, 310, 315, 320, 325, 320, 315, 310, 315],\n",
    "\t'PE': [1489, 1523, 1649, 1554, 1634, 1780, 1900, 1843, 1724, 1652, 1400, 1323]\n",
    "}\n",
    "\n",
    "run2_data = { \n",
    "\t'T': [300, 305, 305, 310, 315, 320, 325, 320, 325, 320, 315, 320],\n",
    "\t'PE': [1482, 1512, 1432, 1623, 1723, 1849, 1948, 2200, 2129, 2003, 1802, 1938]\n",
    "}\n",
    "\n",
    "r1_pd = pd.DataFrame(run1_data)\n",
    "r2_pd = pd.DataFrame(run2_data)\n",
    "\n",
    "\n",
    "sim_data_dict = {'run1': r1_pd,  'run2': r2_pd}\n"
   ]
  },
  {
   "cell_type": "code",
   "execution_count": 87,
   "metadata": {},
   "outputs": [
    {
     "data": {
      "text/html": [
       "<div>\n",
       "<style scoped>\n",
       "    .dataframe tbody tr th:only-of-type {\n",
       "        vertical-align: middle;\n",
       "    }\n",
       "\n",
       "    .dataframe tbody tr th {\n",
       "        vertical-align: top;\n",
       "    }\n",
       "\n",
       "    .dataframe thead th {\n",
       "        text-align: right;\n",
       "    }\n",
       "</style>\n",
       "<table border=\"1\" class=\"dataframe\">\n",
       "  <thead>\n",
       "    <tr style=\"text-align: right;\">\n",
       "      <th></th>\n",
       "      <th>T</th>\n",
       "      <th>PE</th>\n",
       "    </tr>\n",
       "  </thead>\n",
       "  <tbody>\n",
       "    <tr>\n",
       "      <th>0</th>\n",
       "      <td>300</td>\n",
       "      <td>1482</td>\n",
       "    </tr>\n",
       "    <tr>\n",
       "      <th>1</th>\n",
       "      <td>305</td>\n",
       "      <td>1512</td>\n",
       "    </tr>\n",
       "    <tr>\n",
       "      <th>2</th>\n",
       "      <td>305</td>\n",
       "      <td>1432</td>\n",
       "    </tr>\n",
       "    <tr>\n",
       "      <th>3</th>\n",
       "      <td>310</td>\n",
       "      <td>1623</td>\n",
       "    </tr>\n",
       "    <tr>\n",
       "      <th>4</th>\n",
       "      <td>315</td>\n",
       "      <td>1723</td>\n",
       "    </tr>\n",
       "    <tr>\n",
       "      <th>5</th>\n",
       "      <td>320</td>\n",
       "      <td>1849</td>\n",
       "    </tr>\n",
       "    <tr>\n",
       "      <th>6</th>\n",
       "      <td>325</td>\n",
       "      <td>1948</td>\n",
       "    </tr>\n",
       "    <tr>\n",
       "      <th>7</th>\n",
       "      <td>320</td>\n",
       "      <td>2200</td>\n",
       "    </tr>\n",
       "    <tr>\n",
       "      <th>8</th>\n",
       "      <td>325</td>\n",
       "      <td>2129</td>\n",
       "    </tr>\n",
       "    <tr>\n",
       "      <th>9</th>\n",
       "      <td>320</td>\n",
       "      <td>2003</td>\n",
       "    </tr>\n",
       "    <tr>\n",
       "      <th>10</th>\n",
       "      <td>315</td>\n",
       "      <td>1802</td>\n",
       "    </tr>\n",
       "    <tr>\n",
       "      <th>11</th>\n",
       "      <td>320</td>\n",
       "      <td>1938</td>\n",
       "    </tr>\n",
       "  </tbody>\n",
       "</table>\n",
       "</div>"
      ],
      "text/plain": [
       "      T    PE\n",
       "0   300  1482\n",
       "1   305  1512\n",
       "2   305  1432\n",
       "3   310  1623\n",
       "4   315  1723\n",
       "5   320  1849\n",
       "6   325  1948\n",
       "7   320  2200\n",
       "8   325  2129\n",
       "9   320  2003\n",
       "10  315  1802\n",
       "11  320  1938"
      ]
     },
     "execution_count": 87,
     "metadata": {},
     "output_type": "execute_result"
    }
   ],
   "source": [
    "sim_data_dict['run2']"
   ]
  },
  {
   "cell_type": "markdown",
   "metadata": {},
   "source": [
    "We can plot our data of course, using the key value in the dictionary to label each line."
   ]
  },
  {
   "cell_type": "code",
   "execution_count": 76,
   "metadata": {},
   "outputs": [
    {
     "data": {
      "text/plain": [
       "<matplotlib.legend.Legend at 0x14601b190>"
      ]
     },
     "execution_count": 76,
     "metadata": {},
     "output_type": "execute_result"
    },
    {
     "data": {
      "image/png": "[encoded data removed]",
      "text/plain": [
       "<Figure size 432x288 with 1 Axes>"
      ]
     },
     "metadata": {
      "needs_background": "light"
     },
     "output_type": "display_data"
    }
   ],
   "source": [
    "for sim in sim_data_dict:\n",
    "    plt.plot(sim_data_dict[sim]['T'], label=sim)\n",
    "plt.legend()"
   ]
  },
  {
   "cell_type": "markdown",
   "metadata": {},
   "source": [
    "This is of course not the only way to define a dataspace.  For example, instead of having a dictionary be the top level container with the entires being pandas dataframes, we could put the run1_data and run2_data dictionaries into a dictionary, then convert that to a pandas dataframe. "
   ]
  },
  {
   "cell_type": "code",
   "execution_count": 77,
   "metadata": {},
   "outputs": [],
   "source": [
    "sim_data_dict2 = {'run1': run1_data,  'run2': run2_data}\n",
    "\n",
    "sim_df = pd.DataFrame(sim_data_dict2)    "
   ]
  },
  {
   "cell_type": "markdown",
   "metadata": {},
   "source": [
    "The one drawback of this is if we wish to look at just a single entry, e.g., run1, we lose the automatic formatting we had in the approach above, but we wold essentially interact with the the dataframe in the same way."
   ]
  },
  {
   "cell_type": "code",
   "execution_count": 85,
   "metadata": {},
   "outputs": [
    {
     "data": {
      "text/plain": [
       "[300, 305, 310, 315, 310, 315, 320, 325, 320, 315, 310, 315]"
      ]
     },
     "execution_count": 85,
     "metadata": {},
     "output_type": "execute_result"
    }
   ],
   "source": [
    "sim_df['run1']"
   ]
  },
  {
   "cell_type": "code",
   "execution_count": 80,
   "metadata": {},
   "outputs": [
    {
     "data": {
      "image/png": "[encoded data removed]",
      "text/plain": [
       "<Figure size 432x288 with 1 Axes>"
      ]
     },
     "metadata": {
      "needs_background": "light"
     },
     "output_type": "display_data"
    }
   ],
   "source": [
    "for sim in sim_df:\n",
    "    plt.plot(sim_df[sim]['T'], label=sim)\n",
    "    plt.legend()"
   ]
  },
  {
   "cell_type": "markdown",
   "metadata": {},
   "source": [
    "There are some built in functions that make things easy to get information quickly out."
   ]
  },
  {
   "cell_type": "code",
   "execution_count": 88,
   "metadata": {},
   "outputs": [
    {
     "name": "stdout",
     "output_type": "stream",
     "text": [
      "313.3333333333333 +/- 6.853444168423418\n"
     ]
    }
   ],
   "source": [
    "print(sim_data_dict['run1']['T'].mean(), '+/-', sim_data_dict['run1']['T'].std())"
   ]
  },
  {
   "cell_type": "markdown",
   "metadata": {},
   "source": [
    "We can easily export to a numpy array as well.  A quick note, pandas uses the Bessel's correction in the standard deviation formulat. That is using N-1, rather than N.  So this will give a slightly different value than numpy.std(). "
   ]
  },
  {
   "cell_type": "code",
   "execution_count": 89,
   "metadata": {},
   "outputs": [
    {
     "name": "stdout",
     "output_type": "stream",
     "text": [
      "313.3333333333333 +/- 6.5616732283431745\n"
     ]
    }
   ],
   "source": [
    "T_array = sim_data_dict['run1']['T'].to_numpy()\n",
    "print(T_array.mean(), '+/-', T_array.std())"
   ]
  },
  {
   "cell_type": "markdown",
   "metadata": {},
   "source": [
    "# Example: working with real data\n",
    "\n",
    "Let's now read in some real data as a CSV file.  This file includes information on COVID-19 cases from 3/12/20 to 5/27/21 in the state of Tennessee per day from tn.gov [Daily Case Information](https://www.tn.gov/health/cedep/ncov/data/downloadable-datasets.html)"
   ]
  },
  {
   "cell_type": "code",
   "execution_count": 90,
   "metadata": {},
   "outputs": [],
   "source": [
    "tenn_data = pd.read_csv('datasets/Tenn_Pandemic_Data.csv')"
   ]
  },
  {
   "cell_type": "code",
   "execution_count": 91,
   "metadata": {},
   "outputs": [
    {
     "data": {
      "text/html": [
       "<div>\n",
       "<style scoped>\n",
       "    .dataframe tbody tr th:only-of-type {\n",
       "        vertical-align: middle;\n",
       "    }\n",
       "\n",
       "    .dataframe tbody tr th {\n",
       "        vertical-align: top;\n",
       "    }\n",
       "\n",
       "    .dataframe thead th {\n",
       "        text-align: right;\n",
       "    }\n",
       "</style>\n",
       "<table border=\"1\" class=\"dataframe\">\n",
       "  <thead>\n",
       "    <tr style=\"text-align: right;\">\n",
       "      <th></th>\n",
       "      <th>DATE</th>\n",
       "      <th>TOTAL_CASES</th>\n",
       "      <th>NEW_CASES</th>\n",
       "      <th>TOTAL_CONFIRMED</th>\n",
       "      <th>NEW_CONFIRMED</th>\n",
       "      <th>TOTAL_PROBABLE</th>\n",
       "      <th>NEW_PROBABLE</th>\n",
       "      <th>POS_TESTS</th>\n",
       "      <th>NEG_TESTS</th>\n",
       "      <th>TOTAL_TESTS</th>\n",
       "      <th>...</th>\n",
       "      <th>NEW_DEATHS</th>\n",
       "      <th>TOTAL_DEATHS</th>\n",
       "      <th>NEW_ACTIVE</th>\n",
       "      <th>TOTAL_ACTIVE</th>\n",
       "      <th>NEW_INACTIVE_RECOVERED</th>\n",
       "      <th>TOTAL_INACTIVE_RECOVERED</th>\n",
       "      <th>NEW_HOSP</th>\n",
       "      <th>TOTAL_HOSP</th>\n",
       "      <th>TOTAL_DEATHS_BY_DOD</th>\n",
       "      <th>NEW_DEATHS_BY_DOD</th>\n",
       "    </tr>\n",
       "  </thead>\n",
       "  <tbody>\n",
       "    <tr>\n",
       "      <th>0</th>\n",
       "      <td>5/27/21</td>\n",
       "      <td>862401</td>\n",
       "      <td>405</td>\n",
       "      <td>710379</td>\n",
       "      <td>262</td>\n",
       "      <td>152022</td>\n",
       "      <td>143</td>\n",
       "      <td>818866</td>\n",
       "      <td>7142537</td>\n",
       "      <td>7961403</td>\n",
       "      <td>...</td>\n",
       "      <td>13</td>\n",
       "      <td>12441</td>\n",
       "      <td>-236</td>\n",
       "      <td>4898</td>\n",
       "      <td>628</td>\n",
       "      <td>845062</td>\n",
       "      <td>3</td>\n",
       "      <td>21918</td>\n",
       "      <td>12433</td>\n",
       "      <td>1</td>\n",
       "    </tr>\n",
       "    <tr>\n",
       "      <th>1</th>\n",
       "      <td>5/26/21</td>\n",
       "      <td>861996</td>\n",
       "      <td>516</td>\n",
       "      <td>710117</td>\n",
       "      <td>366</td>\n",
       "      <td>151879</td>\n",
       "      <td>150</td>\n",
       "      <td>818539</td>\n",
       "      <td>7132186</td>\n",
       "      <td>7950725</td>\n",
       "      <td>...</td>\n",
       "      <td>22</td>\n",
       "      <td>12428</td>\n",
       "      <td>-102</td>\n",
       "      <td>5134</td>\n",
       "      <td>596</td>\n",
       "      <td>844434</td>\n",
       "      <td>13</td>\n",
       "      <td>21915</td>\n",
       "      <td>12432</td>\n",
       "      <td>6</td>\n",
       "    </tr>\n",
       "    <tr>\n",
       "      <th>2</th>\n",
       "      <td>5/25/21</td>\n",
       "      <td>861480</td>\n",
       "      <td>437</td>\n",
       "      <td>709751</td>\n",
       "      <td>282</td>\n",
       "      <td>151729</td>\n",
       "      <td>155</td>\n",
       "      <td>818109</td>\n",
       "      <td>7120354</td>\n",
       "      <td>7938463</td>\n",
       "      <td>...</td>\n",
       "      <td>6</td>\n",
       "      <td>12406</td>\n",
       "      <td>-184</td>\n",
       "      <td>5236</td>\n",
       "      <td>615</td>\n",
       "      <td>843838</td>\n",
       "      <td>9</td>\n",
       "      <td>21902</td>\n",
       "      <td>12426</td>\n",
       "      <td>8</td>\n",
       "    </tr>\n",
       "    <tr>\n",
       "      <th>3</th>\n",
       "      <td>5/24/21</td>\n",
       "      <td>861043</td>\n",
       "      <td>464</td>\n",
       "      <td>709469</td>\n",
       "      <td>317</td>\n",
       "      <td>151574</td>\n",
       "      <td>147</td>\n",
       "      <td>817798</td>\n",
       "      <td>7111391</td>\n",
       "      <td>7929189</td>\n",
       "      <td>...</td>\n",
       "      <td>7</td>\n",
       "      <td>12400</td>\n",
       "      <td>-319</td>\n",
       "      <td>5420</td>\n",
       "      <td>776</td>\n",
       "      <td>843223</td>\n",
       "      <td>13</td>\n",
       "      <td>21893</td>\n",
       "      <td>12418</td>\n",
       "      <td>2</td>\n",
       "    </tr>\n",
       "    <tr>\n",
       "      <th>4</th>\n",
       "      <td>5/23/21</td>\n",
       "      <td>860579</td>\n",
       "      <td>258</td>\n",
       "      <td>709152</td>\n",
       "      <td>190</td>\n",
       "      <td>151427</td>\n",
       "      <td>68</td>\n",
       "      <td>817424</td>\n",
       "      <td>7103890</td>\n",
       "      <td>7921314</td>\n",
       "      <td>...</td>\n",
       "      <td>6</td>\n",
       "      <td>12393</td>\n",
       "      <td>-225</td>\n",
       "      <td>5739</td>\n",
       "      <td>477</td>\n",
       "      <td>842447</td>\n",
       "      <td>9</td>\n",
       "      <td>21880</td>\n",
       "      <td>12416</td>\n",
       "      <td>7</td>\n",
       "    </tr>\n",
       "    <tr>\n",
       "      <th>...</th>\n",
       "      <td>...</td>\n",
       "      <td>...</td>\n",
       "      <td>...</td>\n",
       "      <td>...</td>\n",
       "      <td>...</td>\n",
       "      <td>...</td>\n",
       "      <td>...</td>\n",
       "      <td>...</td>\n",
       "      <td>...</td>\n",
       "      <td>...</td>\n",
       "      <td>...</td>\n",
       "      <td>...</td>\n",
       "      <td>...</td>\n",
       "      <td>...</td>\n",
       "      <td>...</td>\n",
       "      <td>...</td>\n",
       "      <td>...</td>\n",
       "      <td>...</td>\n",
       "      <td>...</td>\n",
       "      <td>...</td>\n",
       "      <td>...</td>\n",
       "    </tr>\n",
       "    <tr>\n",
       "      <th>437</th>\n",
       "      <td>3/16/20</td>\n",
       "      <td>14</td>\n",
       "      <td>4</td>\n",
       "      <td>14</td>\n",
       "      <td>4</td>\n",
       "      <td>0</td>\n",
       "      <td>0</td>\n",
       "      <td>24</td>\n",
       "      <td>588</td>\n",
       "      <td>612</td>\n",
       "      <td>...</td>\n",
       "      <td>0</td>\n",
       "      <td>0</td>\n",
       "      <td>4</td>\n",
       "      <td>14</td>\n",
       "      <td>0</td>\n",
       "      <td>0</td>\n",
       "      <td>2</td>\n",
       "      <td>3</td>\n",
       "      <td>0</td>\n",
       "      <td>0</td>\n",
       "    </tr>\n",
       "    <tr>\n",
       "      <th>438</th>\n",
       "      <td>3/15/20</td>\n",
       "      <td>10</td>\n",
       "      <td>4</td>\n",
       "      <td>10</td>\n",
       "      <td>4</td>\n",
       "      <td>0</td>\n",
       "      <td>0</td>\n",
       "      <td>21</td>\n",
       "      <td>431</td>\n",
       "      <td>452</td>\n",
       "      <td>...</td>\n",
       "      <td>0</td>\n",
       "      <td>0</td>\n",
       "      <td>4</td>\n",
       "      <td>10</td>\n",
       "      <td>0</td>\n",
       "      <td>0</td>\n",
       "      <td>0</td>\n",
       "      <td>1</td>\n",
       "      <td>0</td>\n",
       "      <td>0</td>\n",
       "    </tr>\n",
       "    <tr>\n",
       "      <th>439</th>\n",
       "      <td>3/14/20</td>\n",
       "      <td>6</td>\n",
       "      <td>5</td>\n",
       "      <td>6</td>\n",
       "      <td>5</td>\n",
       "      <td>0</td>\n",
       "      <td>0</td>\n",
       "      <td>19</td>\n",
       "      <td>403</td>\n",
       "      <td>422</td>\n",
       "      <td>...</td>\n",
       "      <td>0</td>\n",
       "      <td>0</td>\n",
       "      <td>5</td>\n",
       "      <td>6</td>\n",
       "      <td>0</td>\n",
       "      <td>0</td>\n",
       "      <td>1</td>\n",
       "      <td>1</td>\n",
       "      <td>0</td>\n",
       "      <td>0</td>\n",
       "    </tr>\n",
       "    <tr>\n",
       "      <th>440</th>\n",
       "      <td>3/13/20</td>\n",
       "      <td>1</td>\n",
       "      <td>0</td>\n",
       "      <td>1</td>\n",
       "      <td>0</td>\n",
       "      <td>0</td>\n",
       "      <td>0</td>\n",
       "      <td>2</td>\n",
       "      <td>85</td>\n",
       "      <td>87</td>\n",
       "      <td>...</td>\n",
       "      <td>0</td>\n",
       "      <td>0</td>\n",
       "      <td>0</td>\n",
       "      <td>1</td>\n",
       "      <td>0</td>\n",
       "      <td>0</td>\n",
       "      <td>0</td>\n",
       "      <td>0</td>\n",
       "      <td>0</td>\n",
       "      <td>0</td>\n",
       "    </tr>\n",
       "    <tr>\n",
       "      <th>441</th>\n",
       "      <td>3/12/20</td>\n",
       "      <td>1</td>\n",
       "      <td>1</td>\n",
       "      <td>1</td>\n",
       "      <td>1</td>\n",
       "      <td>0</td>\n",
       "      <td>0</td>\n",
       "      <td>2</td>\n",
       "      <td>43</td>\n",
       "      <td>45</td>\n",
       "      <td>...</td>\n",
       "      <td>0</td>\n",
       "      <td>0</td>\n",
       "      <td>1</td>\n",
       "      <td>1</td>\n",
       "      <td>0</td>\n",
       "      <td>0</td>\n",
       "      <td>0</td>\n",
       "      <td>0</td>\n",
       "      <td>0</td>\n",
       "      <td>0</td>\n",
       "    </tr>\n",
       "  </tbody>\n",
       "</table>\n",
       "<p>442 rows × 21 columns</p>\n",
       "</div>"
      ],
      "text/plain": [
       "        DATE  TOTAL_CASES  NEW_CASES  TOTAL_CONFIRMED  NEW_CONFIRMED  \\\n",
       "0    5/27/21       862401        405           710379            262   \n",
       "1    5/26/21       861996        516           710117            366   \n",
       "2    5/25/21       861480        437           709751            282   \n",
       "3    5/24/21       861043        464           709469            317   \n",
       "4    5/23/21       860579        258           709152            190   \n",
       "..       ...          ...        ...              ...            ...   \n",
       "437  3/16/20           14          4               14              4   \n",
       "438  3/15/20           10          4               10              4   \n",
       "439  3/14/20            6          5                6              5   \n",
       "440  3/13/20            1          0                1              0   \n",
       "441  3/12/20            1          1                1              1   \n",
       "\n",
       "     TOTAL_PROBABLE  NEW_PROBABLE  POS_TESTS  NEG_TESTS  TOTAL_TESTS  ...  \\\n",
       "0            152022           143     818866    7142537      7961403  ...   \n",
       "1            151879           150     818539    7132186      7950725  ...   \n",
       "2            151729           155     818109    7120354      7938463  ...   \n",
       "3            151574           147     817798    7111391      7929189  ...   \n",
       "4            151427            68     817424    7103890      7921314  ...   \n",
       "..              ...           ...        ...        ...          ...  ...   \n",
       "437               0             0         24        588          612  ...   \n",
       "438               0             0         21        431          452  ...   \n",
       "439               0             0         19        403          422  ...   \n",
       "440               0             0          2         85           87  ...   \n",
       "441               0             0          2         43           45  ...   \n",
       "\n",
       "     NEW_DEATHS  TOTAL_DEATHS  NEW_ACTIVE  TOTAL_ACTIVE  \\\n",
       "0            13         12441        -236          4898   \n",
       "1            22         12428        -102          5134   \n",
       "2             6         12406        -184          5236   \n",
       "3             7         12400        -319          5420   \n",
       "4             6         12393        -225          5739   \n",
       "..          ...           ...         ...           ...   \n",
       "437           0             0           4            14   \n",
       "438           0             0           4            10   \n",
       "439           0             0           5             6   \n",
       "440           0             0           0             1   \n",
       "441           0             0           1             1   \n",
       "\n",
       "     NEW_INACTIVE_RECOVERED  TOTAL_INACTIVE_RECOVERED  NEW_HOSP  TOTAL_HOSP  \\\n",
       "0                       628                    845062         3       21918   \n",
       "1                       596                    844434        13       21915   \n",
       "2                       615                    843838         9       21902   \n",
       "3                       776                    843223        13       21893   \n",
       "4                       477                    842447         9       21880   \n",
       "..                      ...                       ...       ...         ...   \n",
       "437                       0                         0         2           3   \n",
       "438                       0                         0         0           1   \n",
       "439                       0                         0         1           1   \n",
       "440                       0                         0         0           0   \n",
       "441                       0                         0         0           0   \n",
       "\n",
       "     TOTAL_DEATHS_BY_DOD  NEW_DEATHS_BY_DOD  \n",
       "0                  12433                  1  \n",
       "1                  12432                  6  \n",
       "2                  12426                  8  \n",
       "3                  12418                  2  \n",
       "4                  12416                  7  \n",
       "..                   ...                ...  \n",
       "437                    0                  0  \n",
       "438                    0                  0  \n",
       "439                    0                  0  \n",
       "440                    0                  0  \n",
       "441                    0                  0  \n",
       "\n",
       "[442 rows x 21 columns]"
      ]
     },
     "execution_count": 91,
     "metadata": {},
     "output_type": "execute_result"
    }
   ],
   "source": [
    "tenn_data"
   ]
  },
  {
   "cell_type": "markdown",
   "metadata": {},
   "source": [
    "You can see by the way this has been imported, the dictionary keys are 'DATE', 'TOTAL_CASES', 'NEW_CASES', and etc., so we can use these to extract out specific information.  For example, let's plot  'DATE' and 'TOTAL_CASES'"
   ]
  },
  {
   "cell_type": "code",
   "execution_count": 92,
   "metadata": {},
   "outputs": [
    {
     "data": {
      "text/plain": [
       "[<matplotlib.lines.Line2D at 0x14612fb80>]"
      ]
     },
     "execution_count": 92,
     "metadata": {},
     "output_type": "execute_result"
    },
    {
     "data": {
      "image/png": "[encoded data removed]",
      "text/plain": [
       "<Figure size 432x288 with 1 Axes>"
      ]
     },
     "metadata": {
      "needs_background": "light"
     },
     "output_type": "display_data"
    }
   ],
   "source": [
    "plt.plot(tenn_data['DATE'], tenn_data['TOTAL_CASES'])"
   ]
  },
  {
   "cell_type": "markdown",
   "metadata": {},
   "source": [
    "It's rather difficult to read that x-axis, let's do some quick formatting. "
   ]
  },
  {
   "cell_type": "code",
   "execution_count": 93,
   "metadata": {},
   "outputs": [
    {
     "data": {
      "text/plain": [
       "Text(0.5, 0, 'date')"
      ]
     },
     "execution_count": 93,
     "metadata": {},
     "output_type": "execute_result"
    },
    {
     "data": {
      "image/png": "[encoded data removed]",
      "text/plain": [
       "<Figure size 432x288 with 1 Axes>"
      ]
     },
     "metadata": {
      "needs_background": "light"
     },
     "output_type": "display_data"
    }
   ],
   "source": [
    "#first let's make a copy of the data that gives the date/time of update\n",
    "formatted_date = tenn_data['DATE'][:].copy()\n",
    "#next, let's only keep the date, discarding the time, this is just the first\n",
    "#10 characters of the string\n",
    "formatted_date = [date.replace(date[10:], '') for date in formatted_date]\n",
    "\n",
    "fig, ax = plt.subplots()\n",
    "\n",
    "#to be able to read the labels, we'll use a built-in function to tilt them\n",
    "fig.autofmt_xdate()\n",
    "\n",
    "# and then define the number of tick markers to show a more manageable set\n",
    "ax.xaxis.set_major_locator(plt.MaxNLocator(10))\n",
    "\n",
    "ax.plot(formatted_date, tenn_data['TOTAL_CASES'])\n",
    "ax.invert_xaxis()\n",
    "\n",
    "plt.ylabel('number of positive cases')\n",
    "plt.xlabel('date')"
   ]
  },
  {
   "cell_type": "markdown",
   "metadata": {},
   "source": [
    "It's rather easy to just restrict the data range we plot, e.g., let's just pick out data from the \"beginning\" where the number of cases was most rapidly growing (the end of this window roughly corresponds  with the end of the first wave, around 07-31-20).  Note, the data is formatted with the latest data coming first and oldest data last: "
   ]
  },
  {
   "cell_type": "code",
   "execution_count": 94,
   "metadata": {},
   "outputs": [
    {
     "data": {
      "image/png": "[encoded data removed]",
      "text/plain": [
       "<Figure size 432x288 with 1 Axes>"
      ]
     },
     "metadata": {
      "needs_background": "light"
     },
     "output_type": "display_data"
    }
   ],
   "source": [
    "fig, ax = plt.subplots()\n",
    "\n",
    "#to be able to read the labels, we'll use a built in function to tilt them\n",
    "fig.autofmt_xdate()\n",
    "# and then define the number of tick markers to show\n",
    "ax.xaxis.set_major_locator(plt.MaxNLocator(10))\n",
    "\n",
    "ax.plot(formatted_date[300:-1], tenn_data['TOTAL_CASES'][300:-1])\n",
    "plt.ylabel('number of positive cases')\n",
    "ax.invert_xaxis()"
   ]
  },
  {
   "cell_type": "markdown",
   "metadata": {},
   "source": [
    "Let us  use the scipy optimize routine to fit this region, so we can interpolate the initial exponential growth. For more information of scipy, follow this [link.](https://docs.scipy.org/doc/scipy/reference/index.html)"
   ]
  },
  {
   "cell_type": "code",
   "execution_count": 95,
   "metadata": {},
   "outputs": [],
   "source": [
    "def exp_func(x, a, b, c):\n",
    "    return a * np.exp(-b * x) + c"
   ]
  },
  {
   "cell_type": "code",
   "execution_count": 96,
   "metadata": {},
   "outputs": [],
   "source": [
    "# Create an array of 'N' points from 1 to 0 corresponding to the number of entrees\n",
    "# This is necessary since the x-axis is dates rather than floats, and is in a reversed order\n",
    "\n",
    "xdata = np.linspace(1, 0, len(tenn_data['TOTAL_CASES']))\n",
    "\n",
    "#fit the curve, but limit to that middle data above\n",
    "popt, pcov = curve_fit(exp_func, xdata[300:-1], tenn_data['TOTAL_CASES'][300:-1])"
   ]
  },
  {
   "cell_type": "markdown",
   "metadata": {},
   "source": [
    "Curve fit doesn't give you an R-squared value by default, so we just need to do a few quick calculations."
   ]
  },
  {
   "cell_type": "code",
   "execution_count": 97,
   "metadata": {},
   "outputs": [
    {
     "name": "stdout",
     "output_type": "stream",
     "text": [
      "0.9945568860185705\n"
     ]
    }
   ],
   "source": [
    "residuals = tenn_data['TOTAL_CASES'][300:-1]- exp_func(xdata[300:-1], *popt)\n",
    "#calculate residual sum of squares\n",
    "ss_res = np.sum(residuals**2)\n",
    "#get the total sum of squares\n",
    "ss_tot = np.sum((tenn_data['TOTAL_CASES'][300:-1]-np.mean(tenn_data['TOTAL_CASES'][300:-1]))**2)\n",
    "#get the r-squared value\n",
    "r_squared = 1 - (ss_res / ss_tot)\n",
    "print(r_squared)"
   ]
  },
  {
   "cell_type": "code",
   "execution_count": 98,
   "metadata": {},
   "outputs": [
    {
     "data": {
      "image/png": "[encoded data removed]",
      "text/plain": [
       "<Figure size 432x288 with 1 Axes>"
      ]
     },
     "metadata": {
      "needs_background": "light"
     },
     "output_type": "display_data"
    }
   ],
   "source": [
    "fig, ax = plt.subplots()\n",
    "\n",
    "#to be able to read the labels, we'll use a built in function to tilt them\n",
    "fig.autofmt_xdate()\n",
    "# and then define the number of tick markers to show\n",
    "ax.xaxis.set_major_locator(plt.MaxNLocator(10))\n",
    "\n",
    "ax.plot(formatted_date[300:-1], tenn_data['TOTAL_CASES'][300:-1])\n",
    "ax.plot(formatted_date[300:-1],  exp_func(xdata[300:-1], *popt), 'r--')\n",
    "\n",
    "\n",
    "plt.ylabel('number of positive cases')\n",
    "ax.invert_xaxis()"
   ]
  },
  {
   "cell_type": "code",
   "execution_count": null,
   "metadata": {},
   "outputs": [],
   "source": []
  }
 ],
 "metadata": {
  "kernelspec": {
   "display_name": "Python 3 (ipykernel)",
   "language": "python",
   "name": "python3"
  },
  "language_info": {
   "codemirror_mode": {
    "name": "ipython",
    "version": 3
   },
   "file_extension": ".py",
   "mimetype": "text/x-python",
   "name": "python",
   "nbconvert_exporter": "python",
   "pygments_lexer": "ipython3",
   "version": "3.9.12"
  }
 },
 "nbformat": 4,
 "nbformat_minor": 4
}
