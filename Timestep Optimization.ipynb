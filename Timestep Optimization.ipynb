{
 "cells": [
  {
   "cell_type": "markdown",
   "metadata": {
    "slideshow": {
     "slide_type": "skip"
    }
   },
   "source": [
    "# Timestep Optimization\n",
    "\n",
    "As we observed in the falling ball example, the size of the timestep chosen can have serious consequences on the result of a simulation. If the chosen timestep is too large, interactions can be missed (such as contact with the ground in the falling ball example). However, the smaller the chosen timestep, the longer the simulation will take. As a result, optimizing the timestep is critical to achieving optimal performance for your simulations.\n",
    "\n",
    "Fortunately, in molecular dynamics optimization of the timestep by checking for energy conservation in the microcanonical ensemble (i.e. constant energy, volume, and number of particles). As mentioned, if the timestep is too large interactions will be missed, and one will observe a drift in energy, rather than this value being held constant.\n",
    "\n",
    "--------\n",
    "\n",
    "NOTE: This tutorial is an adaptation of Andrew Summers' LJ Tutorial located at\n",
    "https://github.com/summeraz/chbe4830/blob/master/Assignment3/LJ-NVE.ipynb\n",
    "\n",
    "NOTE: This tutorial has been adapted from the LJ tutorial located at https://bitbucket.org/glotzer/hoomd-examples.\n",
    "\n",
    "NOTE: A detailed description of all HOOMD commands can be found at https://hoomd-blue.readthedocs.io/en/stable/."
   ]
  },
  {
   "cell_type": "markdown",
   "metadata": {
    "slideshow": {
     "slide_type": "slide"
    }
   },
   "source": [
    "## Initialize"
   ]
  },
  {
   "cell_type": "markdown",
   "metadata": {
    "slideshow": {
     "slide_type": "skip"
    }
   },
   "source": [
    "Import the hoomd python package and the md component to execute MD simulations. Also import the `deprecated` component for outputting `hoomdxml` trajectory information. "
   ]
  },
  {
   "cell_type": "code",
   "execution_count": null,
   "metadata": {
    "slideshow": {
     "slide_type": "fragment"
    }
   },
   "outputs": [],
   "source": [
    "import hoomd\n",
    "import hoomd.md\n",
    "import hoomd.deprecated.dump"
   ]
  },
  {
   "cell_type": "markdown",
   "metadata": {
    "slideshow": {
     "slide_type": "skip"
    }
   },
   "source": [
    "Initialize the execution context to control where HOOMD will execute the simulation. When no command line options are provided, HOOMD will auto-select a GPU if it exists, or run on the CPU."
   ]
  },
  {
   "cell_type": "code",
   "execution_count": null,
   "metadata": {
    "slideshow": {
     "slide_type": "subslide"
    }
   },
   "outputs": [],
   "source": [
    "hoomd.context.initialize(\"\")"
   ]
  },
  {
   "cell_type": "markdown",
   "metadata": {
    "slideshow": {
     "slide_type": "skip"
    }
   },
   "source": [
    "Initialize an $n$ by $n$ by $n$ simple cubic lattice of particles, where `a` represents the lattice constant. The lattice initializer by default creates all particles named type \"A\", and with 0 velocity."
   ]
  },
  {
   "cell_type": "code",
   "execution_count": null,
   "metadata": {
    "slideshow": {
     "slide_type": "subslide"
    }
   },
   "outputs": [],
   "source": [
    "lattice = hoomd.init.create_lattice(unitcell=hoomd.lattice.sc(a=2.0), n=5)"
   ]
  },
  {
   "cell_type": "markdown",
   "metadata": {},
   "source": [
    "Initialize particle velocities from a Gaussian distribution."
   ]
  },
  {
   "cell_type": "code",
   "execution_count": null,
   "metadata": {},
   "outputs": [],
   "source": [
    "import random\n",
    "random.seed(1)\n",
    "T_init = 0.1\n",
    "for p in lattice.particles:\n",
    "    p.velocity = (random.gauss(0, T_init), random.gauss(0, T_init), random.gauss(0, T_init))"
   ]
  },
  {
   "cell_type": "markdown",
   "metadata": {
    "slideshow": {
     "slide_type": "slide"
    }
   },
   "source": [
    "## Define potential energy\n",
    "\n",
    "$ V(r) = 4 \\varepsilon \\left[ \\left( \\frac{\\sigma}{r} \\right)^{12} - \\left( \\frac{\\sigma}{r} \\right)^{6} \\right] $, where $r$ < $r$<sub>cut</sub>"
   ]
  },
  {
   "cell_type": "markdown",
   "metadata": {
    "slideshow": {
     "slide_type": "skip"
    }
   },
   "source": [
    "In the Lennard-Jones system, pairs of particles closer than $r_\\mathrm{cut}$ interact with this potential energy.\n",
    "\n",
    "Choose the neighbor list acceleration structure to find neighboring particles efficiently. In systems with only one cutoff length, the cell method performs best."
   ]
  },
  {
   "cell_type": "code",
   "execution_count": null,
   "metadata": {
    "slideshow": {
     "slide_type": "fragment"
    }
   },
   "outputs": [],
   "source": [
    "nl = hoomd.md.nlist.cell(r_buff=0.6, check_period=1)"
   ]
  },
  {
   "cell_type": "markdown",
   "metadata": {
    "slideshow": {
     "slide_type": "skip"
    }
   },
   "source": [
    "Define the functional form of the pair interaction and evaluate using the given neighbor list acceleration structure."
   ]
  },
  {
   "cell_type": "code",
   "execution_count": null,
   "metadata": {
    "slideshow": {
     "slide_type": "fragment"
    }
   },
   "outputs": [],
   "source": [
    "lj = hoomd.md.pair.lj(r_cut=2.5, nlist=nl)"
   ]
  },
  {
   "cell_type": "markdown",
   "metadata": {
    "slideshow": {
     "slide_type": "skip"
    }
   },
   "source": [
    "Specify pair potential parameters for every pair of types in the simulation."
   ]
  },
  {
   "cell_type": "code",
   "execution_count": null,
   "metadata": {
    "slideshow": {
     "slide_type": "fragment"
    }
   },
   "outputs": [],
   "source": [
    "lj.pair_coeff.set('A', 'A', epsilon=1.0, sigma=1.0)"
   ]
  },
  {
   "cell_type": "markdown",
   "metadata": {
    "slideshow": {
     "slide_type": "slide"
    }
   },
   "source": [
    "## Select integrator"
   ]
  },
  {
   "cell_type": "markdown",
   "metadata": {
    "slideshow": {
     "slide_type": "skip"
    }
   },
   "source": [
    "The integrator defines the equations of motion that govern the system of particles, given the current configuration of the particles and the net force from all potentials. The standard integration mode in HOOMD allows different integrators to apply to different groups of particles with the same step size $dt$."
   ]
  },
  {
   "cell_type": "code",
   "execution_count": null,
   "metadata": {
    "slideshow": {
     "slide_type": "fragment"
    }
   },
   "outputs": [],
   "source": [
    "hoomd.md.integrate.mode_standard(dt=0.002)"
   ]
  },
  {
   "cell_type": "markdown",
   "metadata": {
    "slideshow": {
     "slide_type": "skip"
    }
   },
   "source": [
    "Apply NVE integration using the Velocity-Verlet algorithm."
   ]
  },
  {
   "cell_type": "code",
   "execution_count": null,
   "metadata": {
    "slideshow": {
     "slide_type": "fragment"
    }
   },
   "outputs": [],
   "source": [
    "all = hoomd.group.all()\n",
    "hoomd.md.integrate.nve(group=all)"
   ]
  },
  {
   "cell_type": "markdown",
   "metadata": {
    "slideshow": {
     "slide_type": "slide"
    }
   },
   "source": [
    "## Write output"
   ]
  },
  {
   "cell_type": "markdown",
   "metadata": {
    "slideshow": {
     "slide_type": "skip"
    }
   },
   "source": [
    "The `hoomd.analyze.log` method can be used to log a variety of system properties (see http://hoomd-blue.readthedocs.io/en/stable/module-hoomd-analyze.html#hoomd.analyze.log). Here we will periodically log both the potential energy and kinetic energy of the system to a text file."
   ]
  },
  {
   "cell_type": "code",
   "execution_count": null,
   "metadata": {
    "slideshow": {
     "slide_type": "fragment"
    }
   },
   "outputs": [],
   "source": [
    "hoomd.analyze.log(filename=\"analyze.log\",\n",
    "                  quantities=['potential_energy',\n",
    "                              'kinetic_energy'],\n",
    "                  period=100,\n",
    "                  overwrite=True)"
   ]
  },
  {
   "cell_type": "markdown",
   "metadata": {
    "slideshow": {
     "slide_type": "skip"
    }
   },
   "source": [
    "Periodically write the particle configurations to a gsd and a dcd file."
   ]
  },
  {
   "cell_type": "code",
   "execution_count": null,
   "metadata": {
    "slideshow": {
     "slide_type": "fragment"
    }
   },
   "outputs": [],
   "source": [
    "hoomd.dump.gsd(\"trajectory.gsd\", period=2e4, group=all, overwrite=True)hoomd.dump.dcd(\"trajectory.dcd\", period=2e4, group=all, overwrite=True)"
   ]
  },
  {
   "cell_type": "markdown",
   "metadata": {},
   "source": [
    "From the `deprecated` module, output the `hoomdxml` trajectory data for easier interfacing with `MDTraj` later."
   ]
  },
  {
   "cell_type": "code",
   "execution_count": null,
   "metadata": {},
   "outputs": [],
   "source": [
    "hoomd.deprecated.dump.xml(all, filename='traj.xml', period=2e4, vis=True)"
   ]
  },
  {
   "cell_type": "markdown",
   "metadata": {
    "slideshow": {
     "slide_type": "slide"
    }
   },
   "source": [
    "## Run the simulation"
   ]
  },
  {
   "cell_type": "markdown",
   "metadata": {
    "slideshow": {
     "slide_type": "skip"
    }
   },
   "source": [
    "Take 1,000,000 steps forward in time."
   ]
  },
  {
   "cell_type": "code",
   "execution_count": null,
   "metadata": {
    "slideshow": {
     "slide_type": "fragment"
    }
   },
   "outputs": [],
   "source": [
    "hoomd.run(1e6)"
   ]
  },
  {
   "cell_type": "markdown",
   "metadata": {
    "slideshow": {
     "slide_type": "slide"
    }
   },
   "source": [
    "## Examine the output"
   ]
  },
  {
   "cell_type": "markdown",
   "metadata": {
    "slideshow": {
     "slide_type": "skip"
    }
   },
   "source": [
    "Using matplotlib, we'll plot the total energy of our system (kinetic + potential energy) over time. If our timestep is not too large, energy will be conserved and, while we will observe some fluctuations, the value should remain essentially constant over time. If the timestep is too large, we will observe an energy drift."
   ]
  },
  {
   "cell_type": "code",
   "execution_count": null,
   "metadata": {
    "slideshow": {
     "slide_type": "fragment"
    }
   },
   "outputs": [],
   "source": [
    "%matplotlib inline\n",
    "import numpy as np\n",
    "import matplotlib\n",
    "import matplotlib.pyplot as plt\n",
    "matplotlib.style.use('default')\n",
    "\n",
    "data = np.genfromtxt(fname='analyze.log', skip_header=True);"
   ]
  },
  {
   "cell_type": "code",
   "execution_count": null,
   "metadata": {
    "slideshow": {
     "slide_type": "subslide"
    }
   },
   "outputs": [],
   "source": [
    "plt.figure(figsize=(4,2.2), dpi=140);\n",
    "plt.plot(data[:,0], data[:,1] + data[:,2]);\n",
    "plt.xlabel('# of timesteps');\n",
    "plt.ylabel('total energy');"
   ]
  },
  {
   "cell_type": "markdown",
   "metadata": {},
   "source": [
    "From the above plot, a timestep of 0.002 sufficiently prevents energy drift in our system; however, the simulation could be sped up if we increased the timestep.\n",
    "\n",
    "#### Exercise\n",
    "\n",
    "Increase the timestep and re-run the previous cells (you may want to just restart your kernel) until you have determined the maximum timestep that still prevents energy drift. Note, you may want to make use of a \"for\" loop."
   ]
  },
  {
   "cell_type": "markdown",
   "metadata": {},
   "source": [
    "## Visualization\n",
    "\n",
    "Let's visualize the trajectory of the simulation we just performed. While tools do exist to view trajectories from within a notebook, software such as VMD and Ovito provide more robust tools for this purpose. Here, we'll pull up our simulation in VMD and observe what's going on."
   ]
  },
  {
   "cell_type": "code",
   "execution_count": null,
   "metadata": {},
   "outputs": [],
   "source": [
    "%%bash\n",
    "vmd trajectory.dcd"
   ]
  },
  {
   "cell_type": "markdown",
   "metadata": {},
   "source": [
    "## Analysis\n",
    "\n",
    "Now lets analyze the trajectory a bit more. Using the `MDTraj` python package, we can analyze the system as it evolves over time and calculate some interesting properties. In this example, we will calculate the radial distribution function (RDF)."
   ]
  },
  {
   "cell_type": "code",
   "execution_count": null,
   "metadata": {},
   "outputs": [],
   "source": [
    "import mdtraj as md\n",
    "from matplotlib import pyplot"
   ]
  },
  {
   "cell_type": "markdown",
   "metadata": {},
   "source": [
    "Lets load in two of our hoomdxml trajectories. One near the beginning when it was more solid, and one near the end of the simulation, when it was a liquid."
   ]
  },
  {
   "cell_type": "code",
   "execution_count": null,
   "metadata": {},
   "outputs": [],
   "source": [
    "more_solid = md.load_hoomdxml(filename=\"./traj.xml.0000000000.xml\")\n",
    "less_solid = md.load_hoomdxml(filename=\"./traj.xml.0000980000.xml\")\n",
    "\n",
    "# scale xyz positions\n",
    "more_solid.xyz = more_solid.xyz / 10\n",
    "less_solid.xyz = less_solid.xyz / 10"
   ]
  },
  {
   "cell_type": "code",
   "execution_count": null,
   "metadata": {},
   "outputs": [],
   "source": [
    "print(more_solid)\n",
    "print(less_solid)"
   ]
  },
  {
   "cell_type": "markdown",
   "metadata": {},
   "source": [
    "Lets calculate the RDF's"
   ]
  },
  {
   "cell_type": "code",
   "execution_count": null,
   "metadata": {},
   "outputs": [],
   "source": [
    "r_solid, g_r_solid = md.compute_rdf(more_solid, more_solid.top.select_pairs(\"all\", \"all\"))"
   ]
  },
  {
   "cell_type": "code",
   "execution_count": null,
   "metadata": {},
   "outputs": [],
   "source": [
    "print(g_r_solid)"
   ]
  },
  {
   "cell_type": "code",
   "execution_count": null,
   "metadata": {},
   "outputs": [],
   "source": [
    "plt.plot(r_solid, g_r_solid)"
   ]
  },
  {
   "cell_type": "code",
   "execution_count": null,
   "metadata": {},
   "outputs": [],
   "source": [
    "r_liq, g_r_liq = md.compute_rdf(less_solid, less_solid.top.select_pairs(\"all\", \"all\"))"
   ]
  },
  {
   "cell_type": "code",
   "execution_count": null,
   "metadata": {},
   "outputs": [],
   "source": [
    "print(g_r_liq)"
   ]
  },
  {
   "cell_type": "code",
   "execution_count": null,
   "metadata": {},
   "outputs": [],
   "source": [
    "plt.plot(r_liq, g_r_liq)"
   ]
  }
 ],
 "metadata": {
  "kernelspec": {
   "display_name": "Python 3 (ipykernel)",
   "language": "python",
   "name": "python3"
  },
  "language_info": {
   "codemirror_mode": {
    "name": "ipython",
    "version": 3
   },
   "file_extension": ".py",
   "mimetype": "text/x-python",
   "name": "python",
   "nbconvert_exporter": "python",
   "pygments_lexer": "ipython3",
   "version": "3.9.12"
  }
 },
 "nbformat": 4,
 "nbformat_minor": 4
}
