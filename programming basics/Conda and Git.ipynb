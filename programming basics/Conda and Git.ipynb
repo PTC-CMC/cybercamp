{
 "cells": [
  {
   "cell_type": "markdown",
   "id": "91fbd00d",
   "metadata": {},
   "source": [
    "# Basic Conda and Git Commands\n",
    "---\n",
    "1. Conda- from [website](https://docs.conda.io/en/latest/)\n",
    "\n",
    "\"Conda is an open source **package management system** and environment management system that runs on Windows, macOS, Linux and z/OS. Conda quickly installs, runs and updates packages and their dependencies. Conda easily creates, saves, loads and switches between environments on your local computer. It was created for Python programs, but it can package and distribute software for any language.\n",
    "\n",
    "Conda as a package manager helps you find and install packages. If you need a package that requires a different version of Python, you do not need to switch to a different environment manager, because conda is also an environment manager. With just a few commands, you can set up a totally separate environment to run that different version of Python, while continuing to run your usual version of Python in your normal environment.\"\n",
    "</br>\n",
    "[Conda install instructions and documentation](https://docs.conda.io/projects/conda/en/latest/user-guide/install/index.html)\n",
    "\n",
    "---\n",
    "\n",
    "2. Git- from [Microsoft](https://docs.microsoft.com/en-us/devops/develop/git/what-is-git)\n",
    "\n",
    "\"Git is a distributed **version control** system. This means that a local clone of the project is a complete version control repository. These fully-functional local repositories make it is easy to work offline or remotely. Developers commit their work locally, and then sync their copy of the repository with the copy on the server. This paradigm differs from centralized version control where clients must synchronize code with a server before creating new versions of code.\n",
    "\n",
    "Git's flexibility and popularity make it a great choice for any team. Many developers and college graduates already know how to use Git. Git's user community has created many resources to train developers and Git's popularity make it easy to get help when needed. Nearly every development environment has Git support and Git command line tools run on every major operating system.\"\n",
    "\n",
    "---\n"
   ]
  },
  {
   "cell_type": "markdown",
   "id": "c625dc4f",
   "metadata": {},
   "source": [
    "### Conda Basics: Beginner\n",
    "To activate a Conda environment:\n",
    "```bash\n",
    "$ conda activate my_name\n",
    "```\n",
    "\n",
    "To list out current environments:\n",
    "```bash\n",
    "$ conda env list\n",
    "```\n",
    "\n",
    "To list out packages in the current environment:\n",
    "```bash\n",
    "$ conda list\n",
    "```\n",
    "\n",
    "To install a new package in the current environment:\n",
    "```bash\n",
    "$ conda install package_name -c package_channel\n",
    "```\n",
    "\n",
    "To update packages in the current environment:\n",
    "```bash\n",
    "$ conda update --all\n",
    "```\n",
    "\n",
    "\n",
    "To remove a package in the current environment:\n",
    "```bash\n",
    "$ conda remove package_name\n",
    "```"
   ]
  },
  {
   "cell_type": "markdown",
   "id": "619b3ffd",
   "metadata": {},
   "source": [
    "### Git Basics: Beginner\n",
    "To create a git repo:\n",
    "```bash\n",
    "$ git init\n",
    "```\n",
    "To check repo status:\n",
    "```bash\n",
    "$ git status\n",
    "```\n",
    "To clone (download) a git repo into your current directory:\n",
    "```bash\n",
    "$ git clone git_url\n",
    "```\n",
    "To add files to track changes:\n",
    "```bash\n",
    "$ git add path_to_file\n",
    "```\n",
    "To revert those changes:\n",
    "```bash\n",
    "$ git restore path_to_file\n",
    "```\n",
    "To keep those changes locally:\n",
    "```bash\n",
    "$ git commit -m \"Note what was changed\"\n",
    "```\n",
    "To write a [good commit message](https://www.freecodecamp.org/news/how-to-write-better-git-commit-messages/), leave off the -m flag and write in a text editor:\n",
    "```bash\n",
    "$ git commit\n",
    "```\n",
    "To make those changes available on GitHub:\n",
    "```bash\n",
    "$ git push origin\n",
    "```\n",
    "To make a new branch:\n",
    "```bash\n",
    "$ git branch branch_name\n",
    "```"
   ]
  },
  {
   "cell_type": "markdown",
   "id": "e1f4fc87",
   "metadata": {},
   "source": [
    "### Question: Advanced\n",
    "1. Create a fork of the cybercamp repo, and commit your to it in a branch named test_branch.\n",
    "2. Create a Pull Request of test_branch compared to master\n",
    "[Tutorial for hints](https://product.hubspot.com/blog/git-and-github-tutorial-for-beginners)"
   ]
  }
 ],
 "metadata": {
  "kernelspec": {
   "display_name": "Python 3",
   "language": "python",
   "name": "python3"
  },
  "language_info": {
   "codemirror_mode": {
    "name": "ipython",
    "version": 3
   },
   "file_extension": ".py",
   "mimetype": "text/x-python",
   "name": "python",
   "nbconvert_exporter": "python",
   "pygments_lexer": "ipython3",
   "version": "3.9.10"
  }
 },
 "nbformat": 4,
 "nbformat_minor": 5
}
