{
 "cells": [
  {
   "cell_type": "markdown",
   "metadata": {},
   "source": [
    "# Introduction to NumPy\n",
    "---\n",
    "This tutorial is derived from https://github.com/veb-101/Numpy-Pandas-Matplotlib-Tutorial. These three libraries form the basics of most data analysis used in science, and are one of the principle reasons Python is such a widely used tool in science."
   ]
  },
  {
   "cell_type": "markdown",
   "metadata": {},
   "source": [
    "# Numpy Tutorials\n",
    "\n",
    "* Links\n",
    "    * [A Visual Intro to NumPy and Data Representation](http://jalammar.github.io/visual-numpy/) - Using Numpy to organize different types of data \n",
    "    * [Python NumPy Tutorial for Beginners](https://www.youtube.com/watch?v=QUT1VHiLmmI) - Video tutorial of basics\n",
    "    * [NumPy Data Science Essential Training With Python 3](https://www.youtube.com/playlist?list=PLZ7s-Z1aAtmIRpnGQGMTvV3AGdDK37d2b) - Full list of videos for advanced Numpy uses.\n"
   ]
  },
  {
   "cell_type": "code",
   "execution_count": null,
   "metadata": {
    "ExecuteTime": {
     "end_time": "2019-12-21T18:02:02.633521Z",
     "start_time": "2019-12-21T18:02:02.629546Z"
    }
   },
   "outputs": [],
   "source": [
    "import numpy as np\n",
    "print(np.__version__)"
   ]
  },
  {
   "cell_type": "markdown",
   "metadata": {},
   "source": [
    "### Numpy Arrays: Novice\n",
    "* np.array"
   ]
  },
  {
   "cell_type": "code",
   "execution_count": null,
   "metadata": {
    "ExecuteTime": {
     "end_time": "2019-12-21T18:02:03.170854Z",
     "start_time": "2019-12-21T18:02:02.637485Z"
    }
   },
   "outputs": [],
   "source": [
    "# Create numpy arrays from lists\n",
    "a = np.array([1, 2, 3])\n",
    "\n",
    "b = np.array([\n",
    "    [1., 1.],\n",
    "    [1., 1.]\n",
    "])\n",
    "\n",
    "c = np.array([1,2,3], dtype=\"int16\")"
   ]
  },
  {
   "cell_type": "code",
   "execution_count": null,
   "metadata": {
    "ExecuteTime": {
     "end_time": "2019-12-21T18:02:03.410214Z",
     "start_time": "2019-12-21T18:02:03.172848Z"
    }
   },
   "outputs": [],
   "source": [
    "print(a)\n",
    "print(b)\n",
    "print(c)\n",
    "print('-------')\n",
    "print(a.ndim)\n",
    "print(b.ndim)\n",
    "print(c.ndim)\n",
    "print('-------')\n",
    "print(a.shape)\n",
    "print(b.shape)\n",
    "print(c.shape)"
   ]
  },
  {
   "cell_type": "markdown",
   "metadata": {},
   "source": [
    "* **Numpy Benefits**\n",
    "\n",
    "    1) Fixed Type\n",
    "    \n",
    "    2) Contigious memory\n"
   ]
  },
  {
   "cell_type": "code",
   "execution_count": null,
   "metadata": {
    "ExecuteTime": {
     "end_time": "2019-12-21T18:02:03.550195Z",
     "start_time": "2019-12-21T18:02:03.411211Z"
    }
   },
   "outputs": [],
   "source": [
    "# get type\n",
    "print(a.dtype)\n",
    "print(b.dtype)\n",
    "print(c.dtype)"
   ]
  },
  {
   "cell_type": "code",
   "execution_count": null,
   "metadata": {
    "ExecuteTime": {
     "end_time": "2019-12-21T18:02:03.988276Z",
     "start_time": "2019-12-21T18:02:03.819731Z"
    }
   },
   "outputs": [],
   "source": [
    "arr = [[1,2], [1,2]] # list of lists\n",
    "e = np.array(arr) # 2d array\n",
    "print(e, e.shape)\n",
    "x = e.tolist() # convert array back to list\n",
    "print(type(x))"
   ]
  },
  {
   "cell_type": "markdown",
   "metadata": {},
   "source": [
    "#### Question 1: Beginner\n",
    "Create an array with shape (3,4,5) </br>\n",
    "**Hint:** use array.shape to check the output shape"
   ]
  },
  {
   "cell_type": "code",
   "execution_count": null,
   "metadata": {},
   "outputs": [],
   "source": [
    "# Answer 1"
   ]
  },
  {
   "cell_type": "markdown",
   "metadata": {},
   "source": [
    "### Numpy array generator functions: Novice\n",
    "* np.arange\n",
    "* np.linspace"
   ]
  },
  {
   "cell_type": "code",
   "execution_count": null,
   "metadata": {
    "scrolled": true
   },
   "outputs": [],
   "source": [
    "help(np.arange)"
   ]
  },
  {
   "cell_type": "code",
   "execution_count": null,
   "metadata": {},
   "outputs": [],
   "source": [
    "# Automated array creating\n",
    "a = np.arange(5)\n",
    "b = np.arange(5,10)\n",
    "c = np.arange(5,10,2) #start, stop, step\n",
    "print(a,b,c)\n",
    "e = np.linspace(5,10)\n",
    "f = np.linspace(5,10,3) #start, stop, count\n",
    "print(e,f)"
   ]
  },
  {
   "cell_type": "markdown",
   "metadata": {
    "ExecuteTime": {
     "end_time": "2019-12-20T20:21:51.591844Z",
     "start_time": "2019-12-20T20:21:51.586531Z"
    }
   },
   "source": [
    "### Adding and removing elements from numpy arrays: Beginner\n",
    "* np.append"
   ]
  },
  {
   "cell_type": "code",
   "execution_count": null,
   "metadata": {
    "ExecuteTime": {
     "end_time": "2019-12-21T18:02:04.136119Z",
     "start_time": "2019-12-21T18:02:03.989219Z"
    }
   },
   "outputs": [],
   "source": [
    "# add two arrays together\n",
    "a = np.arange(24)\n",
    "b = np.append(a, [5, 6, 7, 8])\n",
    "b"
   ]
  },
  {
   "cell_type": "code",
   "execution_count": null,
   "metadata": {
    "ExecuteTime": {
     "end_time": "2019-12-21T18:02:04.470884Z",
     "start_time": "2019-12-21T18:02:04.280799Z"
    }
   },
   "outputs": [],
   "source": [
    "print(b.shape)\n",
    "c = b.reshape((7, 4))\n",
    "print(c)"
   ]
  },
  {
   "cell_type": "code",
   "execution_count": null,
   "metadata": {
    "ExecuteTime": {
     "end_time": "2019-12-21T18:02:05.566037Z",
     "start_time": "2019-12-21T18:02:05.376720Z"
    }
   },
   "outputs": [],
   "source": [
    "# combine arrays in different ways\n",
    "d1 = np.zeros((1,4))\n",
    "d2 = np.zeros((7,1))\n",
    "print(np.append(c, d1, axis=0))\n",
    "print(\"---\")\n",
    "print(np.append(c, d2, axis=1))"
   ]
  },
  {
   "cell_type": "markdown",
   "metadata": {},
   "source": [
    "### Creating Initial Arrays: Beginner\n",
    "* np.zeros\n",
    "* np.ones\n",
    "* np.full\n",
    "* np.random"
   ]
  },
  {
   "cell_type": "code",
   "execution_count": null,
   "metadata": {},
   "outputs": [],
   "source": [
    "# all 0's matrix\n",
    "print(np.zeros(shape=(2, 2)))\n",
    "# all 1's matrix\n",
    "print(np.ones((2,2)))\n",
    "# any other number\n",
    "print(np.full((2, 2), 99))\n",
    "print(np.random.rand(2,2))"
   ]
  },
  {
   "cell_type": "markdown",
   "metadata": {},
   "source": [
    "### Accessing/Changing specific elements, rows, columns, etc: Intermediate\n",
    "* slices"
   ]
  },
  {
   "cell_type": "code",
   "execution_count": null,
   "metadata": {
    "ExecuteTime": {
     "end_time": "2019-12-21T18:02:07.260785Z",
     "start_time": "2019-12-21T18:02:07.111222Z"
    }
   },
   "outputs": [],
   "source": [
    "a = np.array([[1,2, 3, 4, 5, 6, 7], [8, 9, 10, 11, 12, 13, 14]])\n",
    "print(a)\n",
    "print(a.shape)"
   ]
  },
  {
   "cell_type": "code",
   "execution_count": null,
   "metadata": {
    "ExecuteTime": {
     "end_time": "2019-12-21T18:02:07.385959Z",
     "start_time": "2019-12-21T18:02:07.264201Z"
    }
   },
   "outputs": [],
   "source": [
    "# get a specific element [r, c]\n",
    "print(a[1, 5])\n",
    "print(a[1][5])\n",
    "print(a[1][-2])"
   ]
  },
  {
   "cell_type": "code",
   "execution_count": null,
   "metadata": {
    "ExecuteTime": {
     "end_time": "2019-12-21T18:02:07.516199Z",
     "start_time": "2019-12-21T18:02:07.386955Z"
    }
   },
   "outputs": [],
   "source": [
    "#  get a specific row\n",
    "print(a[0, :])\n",
    "# get a specific col\n",
    "print(a[:, 2])\n",
    "# getting fancy [startindex: endindex: stepsize]\n",
    "print(a[0, 1:6:2])"
   ]
  },
  {
   "cell_type": "code",
   "execution_count": null,
   "metadata": {
    "ExecuteTime": {
     "end_time": "2019-12-21T18:02:07.950546Z",
     "start_time": "2019-12-21T18:02:07.795403Z"
    }
   },
   "outputs": [],
   "source": [
    "# changing element(s)\n",
    "a [1, 5] = 20\n",
    "print(a)\n",
    "print('-----')\n",
    "a[:, 2] = 5\n",
    "print(a)\n",
    "print('-----')\n",
    "a[:, 2] = [1, 2]\n",
    "print(a)"
   ]
  },
  {
   "cell_type": "markdown",
   "metadata": {},
   "source": [
    "### Math with Numpy Arrays: Intermediate\n",
    "* np.sum\n",
    "* np.sin\\/np.cos"
   ]
  },
  {
   "cell_type": "code",
   "execution_count": null,
   "metadata": {
    "ExecuteTime": {
     "end_time": "2019-12-21T18:02:05.058452Z",
     "start_time": "2019-12-21T18:02:04.878856Z"
    }
   },
   "outputs": [],
   "source": [
    "a = np.arange(4) * 10 + 3\n",
    "a"
   ]
  },
  {
   "cell_type": "code",
   "execution_count": null,
   "metadata": {
    "ExecuteTime": {
     "end_time": "2019-12-21T18:02:11.355929Z",
     "start_time": "2019-12-21T18:02:11.216530Z"
    }
   },
   "outputs": [],
   "source": [
    "print(a + 2)\n",
    "print(a - 2)\n",
    "print(a / 2)\n",
    "print(a * 2)"
   ]
  },
  {
   "cell_type": "code",
   "execution_count": null,
   "metadata": {
    "ExecuteTime": {
     "end_time": "2019-12-21T18:02:11.895858Z",
     "start_time": "2019-12-21T18:02:11.650242Z"
    }
   },
   "outputs": [],
   "source": [
    "b = np.array([1, 0, 1, 0])\n",
    "a+b"
   ]
  },
  {
   "cell_type": "code",
   "execution_count": null,
   "metadata": {
    "ExecuteTime": {
     "end_time": "2019-12-21T18:02:12.234376Z",
     "start_time": "2019-12-21T18:02:12.094418Z"
    }
   },
   "outputs": [],
   "source": [
    "print(np.sum(a))\n",
    "print(np.sin(a) )\n",
    "#np.sin([1,3,4,5]) #<-- This won't work, why not?"
   ]
  },
  {
   "cell_type": "markdown",
   "metadata": {
    "ExecuteTime": {
     "end_time": "2019-12-20T14:56:32.438765Z",
     "start_time": "2019-12-20T14:56:32.434790Z"
    }
   },
   "source": [
    "### Question 2: Advanced\n",
    "Solve this system of equations using matrix algebra and the `numpy.linalg.solve` module. </br>\n",
    "$4x+5y+7z=5$</br>\n",
    "$-x+15y-55z=0$</br>\n",
    "$x+2y+2z=48$</br>\n"
   ]
  },
  {
   "cell_type": "code",
   "execution_count": null,
   "metadata": {},
   "outputs": [],
   "source": [
    "# Answer Question 2"
   ]
  },
  {
   "cell_type": "markdown",
   "metadata": {
    "ExecuteTime": {
     "end_time": "2019-12-20T14:59:04.931064Z",
     "start_time": "2019-12-20T14:59:04.925082Z"
    }
   },
   "source": [
    "### Statistics: Intermediate\n",
    "* np.min\\/np.max"
   ]
  },
  {
   "cell_type": "code",
   "execution_count": null,
   "metadata": {
    "ExecuteTime": {
     "end_time": "2019-12-21T18:02:14.313319Z",
     "start_time": "2019-12-21T18:02:14.175556Z"
    }
   },
   "outputs": [],
   "source": [
    "stats = np.array([[1, 2, 3], [4, 5,6]])\n",
    "stats"
   ]
  },
  {
   "cell_type": "code",
   "execution_count": null,
   "metadata": {
    "ExecuteTime": {
     "end_time": "2019-12-21T18:02:14.452997Z",
     "start_time": "2019-12-21T18:02:14.314316Z"
    }
   },
   "outputs": [],
   "source": [
    "print(np.min(stats, axis=None))\n",
    "print(np.min(stats, axis=0))\n",
    "print(np.min(stats, axis=1))\n",
    "\n",
    "print(\"---\")\n",
    "\n",
    "print(np.max(stats, axis=None)) #what other value of axis could you use to get the same output from this function?\n",
    "print(np.max(stats, axis=0))\n",
    "print(np.max(stats, axis=1))"
   ]
  },
  {
   "cell_type": "markdown",
   "metadata": {},
   "source": [
    "### Loading data: Intermediate\n",
    "* np.genfromtxt\n",
    "* np.save"
   ]
  },
  {
   "cell_type": "code",
   "execution_count": null,
   "metadata": {
    "ExecuteTime": {
     "end_time": "2019-12-21T18:02:14.894394Z",
     "start_time": "2019-12-21T18:02:14.744477Z"
    }
   },
   "outputs": [],
   "source": [
    "filedata = np.genfromtxt('./data/data.txt', delimiter=',')\n",
    "filedata = filedata.astype('int32')\n",
    "print(filedata)"
   ]
  },
  {
   "cell_type": "code",
   "execution_count": null,
   "metadata": {
    "ExecuteTime": {
     "end_time": "2019-12-21T18:02:15.054299Z",
     "start_time": "2019-12-21T18:02:14.895392Z"
    }
   },
   "outputs": [],
   "source": [
    "#boolean masking and advanced indexing\n",
    "print(filedata > 50)\n",
    "print(filedata[filedata > 50])"
   ]
  },
  {
   "cell_type": "markdown",
   "metadata": {},
   "source": [
    "### Rearranging array elements: Advanced\n",
    "* np.reshape\n",
    "* np.hstack\n",
    "* np.vstack\n",
    "* np.flipud\n",
    "* np.roll\n",
    "* np.rot90\n",
    "* np.transpose"
   ]
  },
  {
   "cell_type": "code",
   "execution_count": null,
   "metadata": {
    "ExecuteTime": {
     "end_time": "2019-12-21T18:02:20.275488Z",
     "start_time": "2019-12-21T18:02:20.137507Z"
    }
   },
   "outputs": [],
   "source": [
    "before = np.array([[1, 2, 3 , 4], [5, 6, 7, 8]])\n",
    "print(before)\n",
    "print(before.reshape((8,1)))"
   ]
  },
  {
   "cell_type": "code",
   "execution_count": null,
   "metadata": {
    "ExecuteTime": {
     "end_time": "2019-12-21T18:02:20.481130Z",
     "start_time": "2019-12-21T18:02:20.276485Z"
    }
   },
   "outputs": [],
   "source": [
    "# vertically stacking arrays\n",
    "v1 = np.array([1, 2, 3, 4])\n",
    "v2 = np.array([11, 22, 33, 44])\n",
    "\n",
    "np.vstack((v1, v2, v2))"
   ]
  },
  {
   "cell_type": "code",
   "execution_count": null,
   "metadata": {
    "ExecuteTime": {
     "end_time": "2019-12-21T18:02:20.866976Z",
     "start_time": "2019-12-21T18:02:20.482128Z"
    }
   },
   "outputs": [],
   "source": [
    "# horizontal stacking \n",
    "h1 = np.ones((2, 4))\n",
    "h2 = np.zeros((2, 2))\n",
    "np.hstack([h1, h2])"
   ]
  },
  {
   "cell_type": "code",
   "execution_count": null,
   "metadata": {
    "ExecuteTime": {
     "end_time": "2019-12-21T18:02:21.071807Z",
     "start_time": "2019-12-21T18:02:20.867935Z"
    }
   },
   "outputs": [],
   "source": [
    "my_start_array = np.array(np.arange(24))\n",
    "my_3_8_array = my_start_array.reshape((3, 8))\n",
    "my_2_3_4_array = my_start_array.reshape((2, 3, 4))"
   ]
  },
  {
   "cell_type": "code",
   "execution_count": null,
   "metadata": {
    "ExecuteTime": {
     "end_time": "2019-12-21T18:02:21.350024Z",
     "start_time": "2019-12-21T18:02:21.210544Z"
    }
   },
   "outputs": [],
   "source": [
    "my_3_8_array"
   ]
  },
  {
   "cell_type": "code",
   "execution_count": null,
   "metadata": {
    "ExecuteTime": {
     "end_time": "2019-12-21T18:02:21.511541Z",
     "start_time": "2019-12-21T18:02:21.350984Z"
    }
   },
   "outputs": [],
   "source": [
    "np.fliplr(my_3_8_array)"
   ]
  },
  {
   "cell_type": "code",
   "execution_count": null,
   "metadata": {
    "ExecuteTime": {
     "end_time": "2019-12-21T18:02:21.678244Z",
     "start_time": "2019-12-21T18:02:21.512501Z"
    }
   },
   "outputs": [],
   "source": [
    "my_2_3_4_array"
   ]
  },
  {
   "cell_type": "code",
   "execution_count": null,
   "metadata": {
    "ExecuteTime": {
     "end_time": "2019-12-21T18:02:21.871645Z",
     "start_time": "2019-12-21T18:02:21.679203Z"
    }
   },
   "outputs": [],
   "source": [
    "np.fliplr(my_2_3_4_array) # flipping takes place over the last index"
   ]
  },
  {
   "cell_type": "code",
   "execution_count": null,
   "metadata": {
    "ExecuteTime": {
     "end_time": "2019-12-21T18:02:22.022608Z",
     "start_time": "2019-12-21T18:02:21.872598Z"
    }
   },
   "outputs": [],
   "source": [
    "# flip upside down\n",
    "np.flipud(my_3_8_array)"
   ]
  },
  {
   "cell_type": "code",
   "execution_count": null,
   "metadata": {
    "ExecuteTime": {
     "end_time": "2019-12-21T18:02:22.161555Z",
     "start_time": "2019-12-21T18:02:22.023605Z"
    }
   },
   "outputs": [],
   "source": [
    "np.flipud(my_2_3_4_array)"
   ]
  },
  {
   "cell_type": "code",
   "execution_count": null,
   "metadata": {
    "ExecuteTime": {
     "end_time": "2019-12-21T18:02:22.395313Z",
     "start_time": "2019-12-21T18:02:22.162517Z"
    }
   },
   "outputs": [],
   "source": [
    "my_start_array"
   ]
  },
  {
   "cell_type": "code",
   "execution_count": null,
   "metadata": {
    "ExecuteTime": {
     "end_time": "2019-12-21T18:02:22.610366Z",
     "start_time": "2019-12-21T18:02:22.396311Z"
    }
   },
   "outputs": [],
   "source": [
    "# roll\n",
    "np.roll(my_start_array, 5)"
   ]
  },
  {
   "cell_type": "code",
   "execution_count": null,
   "metadata": {
    "ExecuteTime": {
     "end_time": "2019-12-21T18:02:22.839349Z",
     "start_time": "2019-12-21T18:02:22.611309Z"
    }
   },
   "outputs": [],
   "source": [
    "np.roll(my_start_array, -5)"
   ]
  },
  {
   "cell_type": "code",
   "execution_count": null,
   "metadata": {
    "ExecuteTime": {
     "end_time": "2019-12-21T18:02:22.977561Z",
     "start_time": "2019-12-21T18:02:22.840304Z"
    }
   },
   "outputs": [],
   "source": [
    "np.roll(my_2_3_4_array, 2)"
   ]
  },
  {
   "cell_type": "code",
   "execution_count": null,
   "metadata": {
    "ExecuteTime": {
     "end_time": "2019-12-21T18:02:23.116424Z",
     "start_time": "2019-12-21T18:02:22.978504Z"
    }
   },
   "outputs": [],
   "source": [
    "my_3_8_array"
   ]
  },
  {
   "cell_type": "code",
   "execution_count": null,
   "metadata": {
    "ExecuteTime": {
     "end_time": "2019-12-21T18:02:23.294607Z",
     "start_time": "2019-12-21T18:02:23.117385Z"
    }
   },
   "outputs": [],
   "source": [
    "# rotate 90 degree\n",
    "\n",
    "np.rot90(my_3_8_array) # rotate in +ve direction (counter-clockwise)"
   ]
  },
  {
   "cell_type": "code",
   "execution_count": null,
   "metadata": {
    "ExecuteTime": {
     "end_time": "2019-12-21T18:02:23.456113Z",
     "start_time": "2019-12-21T18:02:23.295604Z"
    }
   },
   "outputs": [],
   "source": [
    "np.rot90(my_3_8_array, k=-1) # rotate in -ve direction (clockwise)"
   ]
  },
  {
   "cell_type": "code",
   "execution_count": null,
   "metadata": {
    "ExecuteTime": {
     "end_time": "2019-12-21T18:02:23.605408Z",
     "start_time": "2019-12-21T18:02:23.457111Z"
    }
   },
   "outputs": [],
   "source": [
    "my_start_array = np.array(np.arange(24))\n",
    "my_3_8_array = my_start_array.reshape((3, 8))\n",
    "my_2_3_4_array = my_start_array.reshape((2, 3, 4))"
   ]
  },
  {
   "cell_type": "code",
   "execution_count": null,
   "metadata": {
    "ExecuteTime": {
     "end_time": "2019-12-21T18:02:23.733772Z",
     "start_time": "2019-12-21T18:02:23.606354Z"
    }
   },
   "outputs": [],
   "source": [
    "print(my_start_array)\n",
    "print('-----')\n",
    "print(my_start_array.T)\n",
    "# or\n",
    "# print(np.transpose(my_start_array))"
   ]
  },
  {
   "cell_type": "code",
   "execution_count": null,
   "metadata": {
    "ExecuteTime": {
     "end_time": "2019-12-21T18:02:23.872952Z",
     "start_time": "2019-12-21T18:02:23.734769Z"
    }
   },
   "outputs": [],
   "source": [
    "print(my_3_8_array)\n",
    "print('-----')\n",
    "print(my_3_8_array.T)"
   ]
  },
  {
   "cell_type": "code",
   "execution_count": null,
   "metadata": {
    "ExecuteTime": {
     "end_time": "2019-12-21T18:02:24.027968Z",
     "start_time": "2019-12-21T18:02:23.873906Z"
    }
   },
   "outputs": [],
   "source": [
    "print(my_2_3_4_array)\n",
    "print('-----')\n",
    "print(np.transpose(my_2_3_4_array, axes=(0,2,1)))\n",
    "# transpose over axes index by 2 and axes index by  1\n",
    "# axes = By default, reverse the dimensions, \n",
    "# otherwise permute the axes according to the values given."
   ]
  },
  {
   "cell_type": "code",
   "execution_count": null,
   "metadata": {
    "ExecuteTime": {
     "end_time": "2019-12-21T18:02:24.167002Z",
     "start_time": "2019-12-21T18:02:24.028975Z"
    }
   },
   "outputs": [],
   "source": [
    "# swapaxes(a, axis1, axis2) - interchange two axes of an array\n",
    "print(my_2_3_4_array)\n",
    "print('-----')\n",
    "print(np.swapaxes(my_2_3_4_array, 1, 0) )"
   ]
  },
  {
   "cell_type": "code",
   "execution_count": null,
   "metadata": {
    "ExecuteTime": {
     "end_time": "2019-12-21T18:02:24.442685Z",
     "start_time": "2019-12-21T18:02:24.167968Z"
    }
   },
   "outputs": [],
   "source": [
    "# np.rollaxis - roll the specified axis backwards, until it lies in a given position\n",
    "print(my_2_3_4_array.shape)\n",
    "print('-----')\n",
    "print(np.rollaxis(my_2_3_4_array, axis=1, start=3).shape)\n",
    "# axis 3 is not present but theoretically will be after axis 2 so axis\n",
    "# 1 is rolled till it is behind axis 3\n"
   ]
  },
  {
   "cell_type": "code",
   "execution_count": null,
   "metadata": {
    "ExecuteTime": {
     "end_time": "2019-12-21T18:02:24.644850Z",
     "start_time": "2019-12-21T18:02:24.444341Z"
    }
   },
   "outputs": [],
   "source": [
    "print(my_2_3_4_array.shape)\n",
    "print('-----')\n",
    "print(np.rollaxis(my_2_3_4_array, axis=1).shape)\n",
    "print(np.rollaxis(my_2_3_4_array, axis=2, start=1).shape)\n"
   ]
  },
  {
   "cell_type": "markdown",
   "metadata": {},
   "source": [
    "* use np.transpose to permute all the axes at once\n",
    "* use np.swapaxes to swap any two axes\n",
    "* use np.rollaxis to \"rotate\" the axes"
   ]
  },
  {
   "cell_type": "code",
   "execution_count": null,
   "metadata": {
    "ExecuteTime": {
     "end_time": "2019-12-21T18:02:25.129468Z",
     "start_time": "2019-12-21T18:02:24.646813Z"
    }
   },
   "outputs": [],
   "source": [
    "# np.moveaxis(a, source, destination)\n",
    "# Move axes of an array to new positions.\n",
    "# Other axes remain in their original order.\n",
    "\n",
    "print(my_2_3_4_array.shape)\n",
    "print('-----')\n",
    "print(np.moveaxis(my_2_3_4_array, 0, -1).shape)\n",
    "print(np.moveaxis(my_2_3_4_array, -1, 0).shape)"
   ]
  },
  {
   "cell_type": "markdown",
   "metadata": {},
   "source": [
    "### Universal Functions: Advanced\n",
    "\n",
    "* [More info](https://docs.scipy.org/doc/numpy/reference/ufuncs.html) related to the uses of universal functions"
   ]
  },
  {
   "cell_type": "code",
   "execution_count": null,
   "metadata": {
    "ExecuteTime": {
     "end_time": "2019-12-21T18:02:25.341697Z",
     "start_time": "2019-12-21T18:02:25.130447Z"
    }
   },
   "outputs": [],
   "source": [
    "# truncated binomial: returns (x+1) ** 3 - (x) ** 3\n",
    "def truncated_binomial(x):\n",
    "    return (x+1) ** 3 - (x) ** 3"
   ]
  },
  {
   "cell_type": "code",
   "execution_count": null,
   "metadata": {
    "ExecuteTime": {
     "end_time": "2019-12-21T18:02:25.479475Z",
     "start_time": "2019-12-21T18:02:25.342695Z"
    }
   },
   "outputs": [],
   "source": [
    "np.testing.assert_equal(truncated_binomial(4), 61)"
   ]
  },
  {
   "cell_type": "code",
   "execution_count": null,
   "metadata": {
    "ExecuteTime": {
     "end_time": "2019-12-21T18:02:34.028892Z",
     "start_time": "2019-12-21T18:02:33.975968Z"
    }
   },
   "outputs": [],
   "source": [
    "np.testing.assert_equal(truncated_binomial(4), 65) # Will raise an assertion error"
   ]
  },
  {
   "cell_type": "code",
   "execution_count": null,
   "metadata": {
    "ExecuteTime": {
     "end_time": "2019-12-21T18:02:34.034877Z",
     "start_time": "2019-12-21T18:02:32.943Z"
    }
   },
   "outputs": [],
   "source": [
    "my_numpy_function = np.frompyfunc(truncated_binomial, 1, 1)\n",
    "my_numpy_function"
   ]
  },
  {
   "cell_type": "code",
   "execution_count": null,
   "metadata": {
    "ExecuteTime": {
     "end_time": "2019-12-21T18:02:34.038868Z",
     "start_time": "2019-12-21T18:02:33.363Z"
    }
   },
   "outputs": [],
   "source": [
    "test_array = np.arange(10)"
   ]
  },
  {
   "cell_type": "code",
   "execution_count": null,
   "metadata": {
    "ExecuteTime": {
     "end_time": "2019-12-21T18:02:34.043854Z",
     "start_time": "2019-12-21T18:02:33.774Z"
    }
   },
   "outputs": [],
   "source": [
    "my_numpy_function(test_array)"
   ]
  },
  {
   "cell_type": "code",
   "execution_count": null,
   "metadata": {
    "ExecuteTime": {
     "end_time": "2019-12-21T18:02:34.923018Z",
     "start_time": "2019-12-21T18:02:34.138600Z"
    }
   },
   "outputs": [],
   "source": [
    "big_test_array = np.outer(test_array, test_array)\n",
    "big_test_array"
   ]
  },
  {
   "cell_type": "code",
   "execution_count": null,
   "metadata": {
    "ExecuteTime": {
     "end_time": "2019-12-21T18:02:34.928948Z",
     "start_time": "2019-12-21T18:02:34.347Z"
    }
   },
   "outputs": [],
   "source": [
    "my_numpy_function(big_test_array)"
   ]
  },
  {
   "cell_type": "markdown",
   "metadata": {
    "ExecuteTime": {
     "end_time": "2019-12-21T14:03:08.018276Z",
     "start_time": "2019-12-21T14:03:08.014889Z"
    }
   },
   "source": [
    "* pythogorean triplets\n",
    "\n",
    "$X^n + Y^n = Z ^n$"
   ]
  },
  {
   "cell_type": "code",
   "execution_count": null,
   "metadata": {
    "ExecuteTime": {
     "end_time": "2019-12-21T18:02:35.296466Z",
     "start_time": "2019-12-21T18:02:35.292510Z"
    }
   },
   "outputs": [],
   "source": [
    "def is_integer(x):\n",
    "    return np.equal(np.mod(x, 1), 0)"
   ]
  },
  {
   "cell_type": "code",
   "execution_count": null,
   "metadata": {
    "ExecuteTime": {
     "end_time": "2019-12-21T18:02:36.360304Z",
     "start_time": "2019-12-21T18:02:36.356317Z"
    }
   },
   "outputs": [],
   "source": [
    "numpy_is_integer = np.frompyfunc(is_integer, 1, 1)"
   ]
  },
  {
   "cell_type": "code",
   "execution_count": null,
   "metadata": {
    "ExecuteTime": {
     "end_time": "2019-12-21T18:02:37.822627Z",
     "start_time": "2019-12-21T18:02:36.852744Z"
    }
   },
   "outputs": [],
   "source": [
    "number_of_triangles = 9\n",
    "\n",
    "base = np.arange(number_of_triangles) + 1\n",
    "height = np.arange(number_of_triangles) + 1\n",
    "\n",
    "# https://docs.scipy.org/doc/numpy/reference/generated/numpy.ufunc.outer.html\n",
    "hypotenuse_squared = np.add.outer(base ** 2, height ** 2)\n",
    "hypotenuse = np.sqrt(hypotenuse_squared)\n",
    "\n",
    "numpy_is_integer(hypotenuse)"
   ]
  },
  {
   "cell_type": "markdown",
   "metadata": {},
   "source": [
    "Another method\n",
    "\n",
    "for $m$ and $n$ $+ve$ integers, and m $\\geq$ n:\n",
    "                $X = m^2 - n^2; Y= 2mn; Z = m^2 + n^2$"
   ]
  }
 ],
 "metadata": {
  "kernelspec": {
   "display_name": "Python 3",
   "language": "python",
   "name": "python3"
  },
  "language_info": {
   "codemirror_mode": {
    "name": "ipython",
    "version": 3
   },
   "file_extension": ".py",
   "mimetype": "text/x-python",
   "name": "python",
   "nbconvert_exporter": "python",
   "pygments_lexer": "ipython3",
   "version": "3.9.10"
  },
  "toc": {
   "base_numbering": 1,
   "nav_menu": {},
   "number_sections": true,
   "sideBar": true,
   "skip_h1_title": false,
   "title_cell": "Table of Contents",
   "title_sidebar": "Contents",
   "toc_cell": true,
   "toc_position": {
    "height": "calc(100% - 180px)",
    "left": "10px",
    "top": "150px",
    "width": "165px"
   },
   "toc_section_display": true,
   "toc_window_display": false
  },
  "varInspector": {
   "cols": {
    "lenName": 16,
    "lenType": 16,
    "lenVar": 40
   },
   "kernels_config": {
    "python": {
     "delete_cmd_postfix": "",
     "delete_cmd_prefix": "del ",
     "library": "var_list.py",
     "varRefreshCmd": "print(var_dic_list())"
    },
    "r": {
     "delete_cmd_postfix": ") ",
     "delete_cmd_prefix": "rm(",
     "library": "var_list.r",
     "varRefreshCmd": "cat(var_dic_list()) "
    }
   },
   "types_to_exclude": [
    "module",
    "function",
    "builtin_function_or_method",
    "instance",
    "_Feature"
   ],
   "window_display": false
  }
 },
 "nbformat": 4,
 "nbformat_minor": 2
}
