{
 "cells": [
  {
   "cell_type": "markdown",
   "metadata": {
    "ExecuteTime": {
     "end_time": "2019-12-25T12:41:46.360721Z",
     "start_time": "2019-12-25T12:41:46.028171Z"
    }
   },
   "source": [
    "# Introduction to Matplotlib\n",
    "---\n",
    "This notebook will demonstrate how to take gathered data and visualize it for analysis. This is one of the key parts of being a good scientist. It will help you both communicate your science as well as help you notice trends in the data."
   ]
  },
  {
   "cell_type": "code",
   "execution_count": null,
   "metadata": {
    "ExecuteTime": {
     "end_time": "2019-12-25T12:41:46.365657Z",
     "start_time": "2019-12-25T12:41:46.361668Z"
    }
   },
   "outputs": [],
   "source": [
    "from matplotlib import pyplot as plt\n",
    "%matplotlib inline"
   ]
  },
  {
   "cell_type": "markdown",
   "metadata": {},
   "source": [
    "### Question 1: Beginner\n",
    "Load the documentation, or \"help\" for pyplot"
   ]
  },
  {
   "cell_type": "code",
   "execution_count": null,
   "metadata": {},
   "outputs": [],
   "source": [
    "# Answer Question 1"
   ]
  },
  {
   "cell_type": "markdown",
   "metadata": {},
   "source": [
    "### Matplotlib packaged styling: Novice"
   ]
  },
  {
   "cell_type": "code",
   "execution_count": null,
   "metadata": {
    "ExecuteTime": {
     "end_time": "2019-12-25T12:41:46.499107Z",
     "start_time": "2019-12-25T12:41:46.367690Z"
    }
   },
   "outputs": [],
   "source": [
    "# availables styles\n",
    "plt.style.available"
   ]
  },
  {
   "cell_type": "code",
   "execution_count": null,
   "metadata": {
    "ExecuteTime": {
     "end_time": "2019-12-25T12:41:46.636855Z",
     "start_time": "2019-12-25T12:41:46.500021Z"
    }
   },
   "outputs": [],
   "source": [
    "plt.style.use('seaborn-white')"
   ]
  },
  {
   "cell_type": "markdown",
   "metadata": {},
   "source": [
    "### Line plots: Novice\n",
    "* plt.plot\n",
    "* plt.xlabel\n",
    "* plt.ylabel\n",
    "* plt.title"
   ]
  },
  {
   "cell_type": "code",
   "execution_count": null,
   "metadata": {
    "ExecuteTime": {
     "end_time": "2019-12-25T12:41:46.774810Z",
     "start_time": "2019-12-25T12:41:46.638852Z"
    }
   },
   "outputs": [],
   "source": [
    "# Median Developer Salaries by Age\n",
    "ages_x = [25, 26, 27, 28, 29, 30, 31, 32, 33, 34, 35]\n",
    "\n",
    "dev_y = [38496, 42000, 46752, 49320, 53200,\n",
    "         56000, 62316, 64928, 67317, 68748, 73752]\n",
    "\n",
    "# Median Python Developer Salaries by Age\n",
    "\n",
    "py_dev_y = [45372, 48876, 53850, 57287, 63016,\n",
    "            65998, 70003, 70000, 71496, 75370, 83640]\n",
    "\n",
    "# Median JavaScript Developer Salaries by Age\n",
    "js_dev_y = [37810, 43515, 46823, 49293, 53437,\n",
    "            56373, 62375, 66674, 68745, 68746, 74583]"
   ]
  },
  {
   "cell_type": "code",
   "execution_count": null,
   "metadata": {
    "ExecuteTime": {
     "end_time": "2019-12-25T12:41:47.375542Z",
     "start_time": "2019-12-25T12:41:46.775653Z"
    }
   },
   "outputs": [],
   "source": [
    "plt.plot(ages_x, dev_y, label='All Devs')\n",
    "plt.plot(ages_x, py_dev_y, label='Python')\n",
    "\n",
    "plt.xlabel(\"Ages\")\n",
    "plt.ylabel(\"Median Salary (USD)\")\n",
    "plt.title(\"Median Salary (USD) by Age\")\n",
    "\n",
    "# adding legend\n",
    "# method 1\n",
    "# plt.legend(['All Devs', 'Python'])\n",
    "# method 2 - pass a label argument to plot\n",
    "\n",
    "plt.legend()"
   ]
  },
  {
   "cell_type": "markdown",
   "metadata": {},
   "source": [
    "### Formatting plots: Beginner"
   ]
  },
  {
   "cell_type": "markdown",
   "metadata": {},
   "source": [
    "* Format Strings\n",
    "\n",
    "A format string consists of a part for color, marker and line:\n",
    "```python\n",
    "fmt = '[marker][line][color]'\n",
    "```\n",
    "\n",
    "\n",
    "**Markers**\n",
    "\n",
    "|character|\tdescription|\n",
    "|--|--|\n",
    "|**.**|\tpoint marker|\n",
    "|**,**|\tpixel marker|\n",
    "|**o**|\tcircle marker|\n",
    "|**v**|\ttriangle_down marker|\n",
    "|**^**|\ttriangle_up marker|\n",
    "|**<**|\ttriangle_left marker|\n",
    "|**>**|\ttriangle_right marker|\n",
    "|**1**|\ttri_down marker|\n",
    "|**2**|\ttri_up marker|\n",
    "|**3**|\ttri_left marker|\n",
    "|**4**|\ttri_right marker|\n",
    "|**s**|\tsquare marker|\n",
    "|**p**|\tpentagon marker|\n",
    "|*****|\tstar marker|\n",
    "|**h**|\thexagon1 marker|\n",
    "|**H**|\thexagon2 marker|\n",
    "|**+**|\tplus marker|\n",
    "|**x**|\tx marker|\n",
    "|**D**|\tdiamond marker|\n",
    "|**d**|\tthin_diamond marker|\n",
    "|**'**|\tvline marker|\n",
    "|**_**|\thline marker|\n",
    "\n",
    "\n",
    "**Line Styles**\n",
    "\n",
    "|character|\tdescription|\n",
    "|--|--|\n",
    "|**-**| solid line style|\n",
    "|**--**\t|dashed line style|\n",
    "| **-.**|dash-dot line style|\n",
    "| **:**\t|dotted line style|\n",
    "\n",
    "|Example| format strings:|\n",
    "|--|--|\n",
    "|**b**|   blue markers with default shape|\n",
    "|**or**|   red circles|\n",
    "|**-g**|   green solid line|\n",
    "|**--**|   dashed line with default color|\n",
    "|**^k:**|  black triangle_up markers connected by a dotted line|\n",
    "\n",
    "\n",
    "**Colors**\n",
    "\n",
    "The supported color abbreviations are the single letter codes\n",
    "\n",
    "\n",
    "|character\t|color|\n",
    "|--|--|\n",
    "|**b**|\tblue|\n",
    "|**g**| green|\n",
    "|**r**| red|\n",
    "|**c**|\tcyan|\n",
    "|**m**|\tmagenta|\n",
    "|**y**|\tyellow|\n",
    "|**k**|\tblack|\n",
    "|**w**|\twhite|"
   ]
  },
  {
   "cell_type": "code",
   "execution_count": null,
   "metadata": {
    "ExecuteTime": {
     "end_time": "2019-12-25T12:41:47.524273Z",
     "start_time": "2019-12-25T12:41:47.377537Z"
    }
   },
   "outputs": [],
   "source": [
    "# change formatting of the plot\n",
    "# method 1\n",
    "\n",
    "plt.plot(ages_x, dev_y, 'k--', label='All Devs')\n",
    "plt.plot(ages_x, py_dev_y, 'b', label='Python')\n",
    "\n",
    "\n",
    "plt.xlabel(\"Ages\")\n",
    "plt.ylabel(\"Median Salary (USD)\")\n",
    "plt.title(\"Median Salary (USD) by Age\")\n",
    "plt.legend()"
   ]
  },
  {
   "cell_type": "code",
   "execution_count": null,
   "metadata": {
    "ExecuteTime": {
     "end_time": "2019-12-25T12:41:47.669207Z",
     "start_time": "2019-12-25T12:41:47.526229Z"
    }
   },
   "outputs": [],
   "source": [
    "# proper method / more desirable\n",
    "\n",
    "plt.plot(ages_x, dev_y, color='k', linestyle='--', marker='.', label='All Devs')\n",
    "plt.plot(ages_x, py_dev_y, color='b', marker='o', label='Python')\n",
    "plt.xlabel(\"Ages\")\n",
    "plt.ylabel(\"Median Salary (USD)\")\n",
    "plt.title(\"Median Salary (USD) by Age\")\n",
    "plt.legend()"
   ]
  },
  {
   "cell_type": "markdown",
   "metadata": {},
   "source": [
    "### Question 2: Beginner\n",
    "Create the same plot with no lines, and square vs triangular markers"
   ]
  },
  {
   "cell_type": "code",
   "execution_count": null,
   "metadata": {},
   "outputs": [],
   "source": [
    "# Answer Question 2"
   ]
  },
  {
   "cell_type": "markdown",
   "metadata": {},
   "source": [
    "### More Colors: Beginner\n",
    "* plt.plot(color=)\n",
    "* plt.grid\n",
    "* plt.tight_layout"
   ]
  },
  {
   "cell_type": "code",
   "execution_count": null,
   "metadata": {
    "ExecuteTime": {
     "end_time": "2019-12-25T12:41:47.836615Z",
     "start_time": "2019-12-25T12:41:47.671202Z"
    },
    "scrolled": true
   },
   "outputs": [],
   "source": [
    "# using hexadecimal value for colors and linewidth\n",
    "\n",
    "plt.plot(ages_x, py_dev_y, linewidth=3, label='Python')\n",
    "\n",
    "plt.plot(ages_x, js_dev_y, linewidth=3, label='JavaScript')\n",
    "\n",
    "plt.plot(ages_x, dev_y, color='#444444', linestyle='--', label='All Devs') #What color is #000000\n",
    "\n",
    "plt.xlabel(\"Ages\")\n",
    "plt.ylabel(\"Median Salary (USD)\")\n",
    "plt.title(\"Median Salary (USD) by Age\")\n",
    "plt.legend()\n",
    "\n",
    "# adding a grid\n",
    "plt.grid(True)\n",
    "\n",
    "# Automatically adjust subplot parameters to give specified padding.\n",
    "plt.tight_layout()\n",
    "plt.show()"
   ]
  },
  {
   "cell_type": "markdown",
   "metadata": {},
   "source": [
    "### Saving plots: Beginner\n",
    "* plt.savefig"
   ]
  },
  {
   "cell_type": "code",
   "execution_count": null,
   "metadata": {
    "ExecuteTime": {
     "end_time": "2019-12-25T12:41:48.140911Z",
     "start_time": "2019-12-25T12:41:47.838569Z"
    }
   },
   "outputs": [],
   "source": [
    "# using xkcd format\n",
    "\n",
    "plt.xkcd()\n",
    "plt.plot(ages_x, py_dev_y, linewidth=3, label='Python')\n",
    "plt.plot(ages_x, js_dev_y, linewidth=3, label='JavaScript')\n",
    "plt.plot(ages_x, dev_y, color='#444444', linestyle='--', label='All Devs')\n",
    "plt.xlabel(\"Ages\")\n",
    "plt.ylabel(\"Median Salary (USD)\")\n",
    "plt.title(\"Median Salary (USD) by Age\")\n",
    "# Give the plot a legend here\n",
    "plt.grid(True)\n",
    "plt.tight_layout()\n",
    "# saving file\n",
    "plt.savefig(r'data/plot1-1.png')"
   ]
  },
  {
   "cell_type": "markdown",
   "metadata": {},
   "source": [
    "### Histograms: Intermediate\n",
    "* plt.hist"
   ]
  },
  {
   "cell_type": "code",
   "execution_count": null,
   "metadata": {},
   "outputs": [],
   "source": [
    "plt.rcdefaults()\n",
    "plt.style.use('seaborn-white')\n",
    "ages = [18, 18, 21, 25, 26, 30, 32, 38, 45, 55]\n",
    "bins= [10, 20, 30, 40, 50, 60]\n",
    "\n",
    "plt.hist(ages, bins=bins[1:], edgecolor='black')\n",
    "\n",
    "\n",
    "plt.title('Age of Respondants')\n",
    "plt.xlabel('Ages')\n",
    "plt.ylabel('Total Respondants')\n",
    "plt.tight_layout()\n",
    "plt.show()"
   ]
  },
  {
   "cell_type": "code",
   "execution_count": null,
   "metadata": {},
   "outputs": [],
   "source": [
    "import numpy as np\n",
    "ages = [18, 18, 21, 25, 26, 30, 32, 38, 45, 55]\n",
    "bins= [10, 20, 30, 40, 50, 60]\n",
    "\n",
    "plt.hist(ages, bins=bins[1:], edgecolor='black')\n",
    "\n",
    "median_age = np.median(ages)\n",
    "plt.text(50,3,\"Median Age is {}\".format(median_age))\n",
    "color = '#fc4f30'\n",
    "plt.axvline(median_age, color=color, \n",
    "            linewidth=2, label='Age Median')\n",
    "\n",
    "mean_age = np.mean(ages)\n",
    "plt.text(50,2.8,\"Mean Age is {}\".format(mean_age))\n",
    "color = '#fc8f30'\n",
    "plt.axvline(mean_age, color=color, \n",
    "            linewidth=2, label='Age Median')\n",
    "\n",
    "plt.title('Age of Respondants')\n",
    "plt.xlabel('Ages')\n",
    "plt.ylabel('Total Respondants')\n",
    "plt.tight_layout()\n",
    "plt.show()\n"
   ]
  },
  {
   "cell_type": "markdown",
   "metadata": {},
   "source": [
    "### Subplots: Intermediate\n",
    "* plt.subplots"
   ]
  },
  {
   "cell_type": "code",
   "execution_count": null,
   "metadata": {},
   "outputs": [],
   "source": [
    "fig, axes = plt.subplots(2, 2)\n",
    "\n",
    "n_points = 50\n",
    "axes[0, 0].scatter(np.random.randn(n_points), np.random.randn(n_points), color='k', alpha=0.3)\n",
    "axes[1, 0].scatter(np.random.randn(n_points*2), np.random.randn(n_points*2), color='k', alpha=0.3)\n",
    "axes[0, 1].scatter(np.random.randn(n_points*4), np.random.randn(n_points*4), color='k', alpha=0.3)\n",
    "axes[1, 1].scatter(np.random.randn(n_points*8), np.random.randn(n_points*8), color='k', alpha=0.3)"
   ]
  },
  {
   "cell_type": "code",
   "execution_count": null,
   "metadata": {},
   "outputs": [],
   "source": [
    "fig, axes = plt.subplots(2, 2, sharex=True, sharey=True)\n",
    "for i in range(2):\n",
    "    for j in range(2):\n",
    "        axes[i, j].hist(np.random.randn(500), bins=50, color='k', alpha=0.5)\n",
    "\n",
    "plt.subplots_adjust(wspace=0, hspace=0)"
   ]
  },
  {
   "cell_type": "markdown",
   "metadata": {},
   "source": [
    "#### Question 3: Advanced\n",
    "Plot the function:</br>\n",
    "$y=sin(x)$ with $z=y*np.sin(x)$ </br>\n",
    "on a 3D coordinate system. \n",
    "\n",
    "Use 3 different plots with color scales to color the points by $x$,$y$, and $z$ components respectively. </br>\n",
    "i.e. plot 1: color based on magnitude of x value, plot 2: color based on magnitude of y value, plot 3: color based on magnitude of z value"
   ]
  },
  {
   "cell_type": "code",
   "execution_count": null,
   "metadata": {},
   "outputs": [],
   "source": [
    "# Answer Question 3"
   ]
  }
 ],
 "metadata": {
  "kernelspec": {
   "display_name": "Python 3",
   "language": "python",
   "name": "python3"
  },
  "language_info": {
   "codemirror_mode": {
    "name": "ipython",
    "version": 3
   },
   "file_extension": ".py",
   "mimetype": "text/x-python",
   "name": "python",
   "nbconvert_exporter": "python",
   "pygments_lexer": "ipython3",
   "version": "3.9.10"
  },
  "toc": {
   "base_numbering": 1,
   "nav_menu": {},
   "number_sections": true,
   "sideBar": true,
   "skip_h1_title": false,
   "title_cell": "Table of Contents",
   "title_sidebar": "Contents",
   "toc_cell": false,
   "toc_position": {},
   "toc_section_display": true,
   "toc_window_display": false
  },
  "varInspector": {
   "cols": {
    "lenName": 16,
    "lenType": 16,
    "lenVar": 40
   },
   "kernels_config": {
    "python": {
     "delete_cmd_postfix": "",
     "delete_cmd_prefix": "del ",
     "library": "var_list.py",
     "varRefreshCmd": "print(var_dic_list())"
    },
    "r": {
     "delete_cmd_postfix": ") ",
     "delete_cmd_prefix": "rm(",
     "library": "var_list.r",
     "varRefreshCmd": "cat(var_dic_list()) "
    }
   },
   "types_to_exclude": [
    "module",
    "function",
    "builtin_function_or_method",
    "instance",
    "_Feature"
   ],
   "window_display": false
  }
 },
 "nbformat": 4,
 "nbformat_minor": 2
}
