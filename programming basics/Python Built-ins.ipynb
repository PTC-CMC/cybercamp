{
 "cells": [
  {
   "cell_type": "markdown",
   "metadata": {},
   "source": [
    "# Introduction to Coding in Python\n",
    "----\n",
    "\n",
    "This notebook will review the beginner concepts of programming, using the Python programming language. Most of the lessons will be served in these interactive notebooks, called Jupyter Notebooks.\n",
    "\n",
    "Think of Jupyter Notebooks like a digital lab notebook. In these you can type up notes, you can use programming languages like Python to analyze data, you can plot data and make graphs as well. All in the same document!\n",
    "\n",
    "[Python](https://www.python.org/doc/essays/blurb/)- \"Python is an interpreted, object-oriented, high-level programming language with dynamic semantics. Its high-level built in data structures, combined with dynamic typing and dynamic binding, make it very attractive for Rapid Application Development, as well as for use as a scripting or glue language to connect existing components together. Python's simple, easy to learn syntax emphasizes readability and therefore reduces the cost of program maintenance. Python supports modules and packages, which encourages program modularity and code reuse. The Python interpreter and the extensive standard library are available in source or binary form without charge for all major platforms, and can be freely distributed.\"\n",
    "\n",
    "1. Interpreted - Does not need to compile into binary and is read line by line as written.\n",
    "2. Object-oriented - Python \"Objects\" are crafted  from \"Classes\" to give users repeatable functionality. \n",
    "3. High-level - Python is designed to flow similar to human language, and less like computer language (\"abstraction\").\n",
    "4. Dynamic - Variable names can be assigned and reassigned on the fly from various Python Objects"
   ]
  },
  {
   "cell_type": "markdown",
   "metadata": {},
   "source": [
    "### Jupyter, brief overview: Novice\n",
    "---\n",
    "\n",
    "[Jupyter Notebooks](https://jupyter-notebook.readthedocs.io/en/stable/index.html) are interactive webpages that can contain written sections using the [Markdown](https://commonmark.org/help/) markup language. In fact, all the text in these notebooks are written in Markdown.\n",
    "\n",
    "Since these notebooks are interactive webpages, as long as someone has a web browser and the proper programs installed on their computer, anyone can view these documents.\n",
    "\n",
    "\n",
    "We are now going to walk through the interface of Jupyter and how to use it.\n",
    "\n",
    "To begin refer to [this document](https://jupyter-notebook.readthedocs.io/en/stable/notebook.html#creating-a-new-notebook-document) for a basic overview of Jupyter and how to use the notebook. \n",
    "\n",
    "The link above describes how to make a new document, this behaves similarly to most other programs like Microsoft Office and Apple's iWork suite. \n",
    "\n",
    "You can make new, blank notebooks using the: <kbd>File</kbd> -> <kbd>New Notebook</kbd> -> <kbd>Python 3</kbd>\n",
    "buttons at the top of your screen.\n",
    "\n",
    "The main interface of Jupyter Notebooks are located at the top of the screen.\n",
    "The main elements are highlighted in the image below:\n",
    "<img src=\"./images/notebook-ui.png\" alt=\"Drawing\" style=\"width: 700px;\"/>\n"
   ]
  },
  {
   "cell_type": "markdown",
   "metadata": {},
   "source": [
    "What makes Jupyter so useful, is the fact that it supports programming languages that can be executed in the notebook, and the output of those programs are also stored, in addition to regular text as well. For example, observe the cell below. It contains Python code, and we will observe how this snippet of code can be executed, and the output is also displayed. \n",
    "\n",
    "#### To execute the cells that contain python code:\n",
    "1. Click on the cell using your mouse\n",
    "--\n",
    "2. when the side of the cell turns green, press <kbd>SHIFT</kbd>+<kbd>RET</kbd>, or <kbd>SHIFT</kbd>+<kbd>ENTER</kbd>\n",
    "--\n",
    "\n",
    "\n",
    "The data you collect, your notes on that data, and the code you use to analyze the data, can all be stored in the same document! You can always refer back to that notebook document and remember how you got that answer to a certain homework problem, or how you made that graph for a lab write-up.\n",
    "\n",
    "----"
   ]
  },
  {
   "cell_type": "markdown",
   "metadata": {},
   "source": [
    "Lets begin with some use case examples. \n",
    "\n",
    "To begin, read through the comments in the python code cell below.\n",
    "\n",
    "Execute the cell and make sure you have a version of python that is 3.5.* the last number does not matter as much. The asterisk (*) denotes that the version number could be anything from 0-9\n",
    "\n",
    "---"
   ]
  },
  {
   "cell_type": "code",
   "execution_count": null,
   "metadata": {},
   "outputs": [],
   "source": [
    "# This is a code block!\n",
    "\n",
    "# In programming languages, there are special characters that tell\n",
    "# the program to ignore certain lines. Those are called comment characters.\n",
    "# Lines marked with those characters are treated as comments, where\n",
    "# the programmer can leave notes for people using their code.\n",
    "# You want to always comment your code, that way you know how your code works\n",
    "# when you come back to it in a semester or two!\n",
    "\n",
    "# First, lets see what version of python we are using\n",
    "!python --version"
   ]
  },
  {
   "cell_type": "markdown",
   "metadata": {},
   "source": [
    "----\n",
    "\n",
    "As you see above, the output of the command is placed directly into the notebook!\n",
    "\n",
    "The comments in the code are not displayed, because python knows to ignore those lines with\n",
    "a `#` character at the beginning!\n",
    "\n",
    "If you need to write a larger section of comments that might take a few lines, you can use\n",
    "**multi-line comments**\n",
    "\n",
    "`\n",
    "\"\"\"\n",
    "Your long comment here...\n",
    "You do not need to put # at the beginning of each line.\n",
    "Python knows that the triple quotes means you want to\n",
    "    comment out multiple lines in your code!\n",
    "\"\"\"\n",
    "`\n",
    "\n",
    "These are super useful when explaining how a function works, or if you need to leave a large reminder to yourself or someone else who might use your code!\n",
    "\n",
    "---"
   ]
  },
  {
   "cell_type": "markdown",
   "metadata": {},
   "source": [
    "### Strings and Printing: Novice\n",
    "---\n",
    "Strings are one way to communicate information. A string is an array of unicode characters which is a form of text. These are defined with a pair of **quotes** `\"\"` or `''`. Strings are great to send yourself or others information when using a code. For instance, you can print yourself a message."
   ]
  },
  {
   "cell_type": "code",
   "execution_count": null,
   "metadata": {},
   "outputs": [],
   "source": [
    "# Lets print out a simple hello world! statement using python!\n",
    "my_message = \"Hello, World\"\n",
    "print(type(my_message))\n",
    "print(my_message)\n",
    "print(\"Jupyter notebooks are useful!\")"
   ]
  },
  {
   "cell_type": "markdown",
   "metadata": {},
   "source": [
    "Additional formatting can be done to make strings more useful. For instance say you want to leave a place later for some variable info to be put in a string. This can be done in the following way!"
   ]
  },
  {
   "cell_type": "code",
   "execution_count": null,
   "metadata": {},
   "outputs": [],
   "source": [
    "my_message = \"Hello {}\"\n",
    "print(my_message.format(\"World\"))\n",
    "print(my_message.format(\"New York\"))\n",
    "print(my_message.format(\"There, Obiwan Kenobi\"))"
   ]
  },
  {
   "cell_type": "markdown",
   "metadata": {},
   "source": [
    "Fore more info on string formatting, visit [tutorialspoint](https://www.tutorialspoint.com/python/python_strings.htm) or other online resources."
   ]
  },
  {
   "cell_type": "markdown",
   "metadata": {},
   "source": [
    "### Floats, ints, and mathematical operations: Novice\n",
    "\n",
    "Info about floats and ints"
   ]
  },
  {
   "cell_type": "code",
   "execution_count": null,
   "metadata": {},
   "outputs": [],
   "source": [
    "# Lets practice our addition and multiplication\n",
    "example1 = 5 + 2\n",
    "print('example1 ', type(example1), example1)\n",
    "\n",
    "example2 = 6 * 7\n",
    "print('example2 ', type(example2), example2)\n",
    "\n",
    "example3 = 6 / 5\n",
    "print('example3 ', type(example3), example3)\n",
    "\n",
    "# two asterisks mean raising a number to a power\n",
    "# in this case, we are squaring the number 7\n",
    "example4 = 7**2\n",
    "print('example4', type(example4), example4)"
   ]
  },
  {
   "cell_type": "markdown",
   "metadata": {},
   "source": [
    "#### Question 1: Beginner \n",
    "What is the resultant type if you do mathematical functions with both a `float` and an `int`?"
   ]
  },
  {
   "cell_type": "code",
   "execution_count": null,
   "metadata": {},
   "outputs": [],
   "source": [
    "# Answer question 1 here"
   ]
  },
  {
   "cell_type": "code",
   "execution_count": null,
   "metadata": {},
   "outputs": [],
   "source": [
    "# Let's try some more complicated operations\n",
    "example1 = 10 // 3 #floor division\n",
    "print('example1 ', type(example1), example1)\n",
    "example2 = 10%3 # modulus (remainder)\n",
    "print('example2 ', type(example2), example2)\n",
    "example3 = 5\n",
    "example3 += 10 #assignment operators\n",
    "print('example3 ', type(example3), example3)\n",
    "example4 = 5\n",
    "example4 /= 10\n",
    "print('example4 ', type(example4), example4)\n"
   ]
  },
  {
   "cell_type": "markdown",
   "metadata": {},
   "source": [
    "### Logical and Comparison Operators: Beginner\n",
    "---\n",
    "Comparisons are important to get relationships between two variables. If you're trying to validate two answers are the same, use the `==` operation. If you want to find a minima, you'll want to check if something is smaller than another value using `<` operation. These operations return a boolean class object, which are used for conditional statements. Let's use some of the example values we've generated in the above code and see how they relate."
   ]
  },
  {
   "cell_type": "code",
   "execution_count": null,
   "metadata": {},
   "outputs": [],
   "source": [
    "print(example1 == 3)\n",
    "print(example2 == 1.0) #will work between floats and ints\n",
    "print(example3 < example1) #less than comparison\n",
    "print(example4 != 1/2) #not equal operator\n",
    "print(type(example4 != 1/2))"
   ]
  },
  {
   "cell_type": "markdown",
   "metadata": {},
   "source": [
    "#### Selection Statements\n",
    "\n",
    "Selection statements are ways to divide code based on certain conditions. \n",
    "\n",
    "A general rule of thumb is: If we are asking a question, and if the answer requires us to perform different actions on this data, etc. Then we must use some selection statement to handle this. \n",
    "\n",
    "In Python and other programming languages, these are defined as `if, else, elseif` selection statements. \n"
   ]
  },
  {
   "cell_type": "code",
   "execution_count": null,
   "metadata": {},
   "outputs": [],
   "source": [
    "conditional_statement = True\n",
    "print(type(conditional_statement)) \n",
    "if (conditional_statement): # try replacing the True value with something False\n",
    "    print(\"This works!\")\n",
    "else:\n",
    "    print(\"This doesn't work\")\n",
    "    \n"
   ]
  },
  {
   "cell_type": "markdown",
   "metadata": {},
   "source": [
    "#### Question 2: Intermediate\n",
    "Using a generic string input, write a statement that checks for the letter \"e\" in the string.\n",
    "Hint: Use the [`in` operator](https://note.nkmk.me/en/python-in-basic/) to check if a letter is in the string.\n"
   ]
  },
  {
   "cell_type": "code",
   "execution_count": null,
   "metadata": {},
   "outputs": [],
   "source": [
    "#Answer Question 2"
   ]
  },
  {
   "cell_type": "markdown",
   "metadata": {},
   "source": [
    "### Iterating Through Loops: Beginner\n",
    "\n",
    "Throughout this course and as you progress further into your major of choice, programming concepts will become more and more useful. Whether it is analyzing large data sets, plotting graphs for a report, or even writing reports; programming concepts will undoubtedly manifest themselves. By learning these concepts early and actually putting them into use, your work will become more readable, more reproducible, and will take you less time to actually finish those assignments and projects.\n",
    "\n",
    "There are a few key concepts that show up in a majority of the programming languages today, Python being one of them. The next section will walk through this with some examples.\n",
    "\n",
    "---\n",
    "\n",
    "Above we walked through some minimal examples using Python showcasing comments, variables, operations on variables, and printing. Next, we will go a bit more in depth with those. \n",
    "\n",
    "#### Repetitious Tasks\n",
    "\n",
    "When programming, you will run into situations where some task will need to be repeated multiple times. To handle this, many programming languages have implemented looping structures. These special functions are designed to execute the same code multiple times. The most common looping structure is the `for` loop. Refer to the example below."
   ]
  },
  {
   "cell_type": "code",
   "execution_count": null,
   "metadata": {},
   "outputs": [],
   "source": [
    "# For loop example\n",
    "\n",
    "# execute what is contained in the for loop 5 times\n",
    "for i in range(5):\n",
    "    print(\"Hello, World!\")\n",
    "    print(\"This is repeat number {}.\".format(i))\n",
    "    print()\n"
   ]
  },
  {
   "cell_type": "markdown",
   "metadata": {},
   "source": [
    "---\n",
    "\n",
    "So what happened above?\n",
    "\n",
    "To begin, we have the declaration of the `for` loop structure:\n",
    "```python3\n",
    "for i in range(5):\n",
    "```\n",
    "Where:\n",
    "- `for` tells Python we want a looping structure\n",
    "- `i` is a counter variable, it becomes whatever value the code after `in` tells it to be\n",
    "- `in` is the separator, it is the divider between the counter variables and the repeating code\n",
    "- `range(5)` is a Python function, it takes a number and will repeat and increment the number that many times. In this case, it repeats the number 5 times, starting from 0 and incrementing it by one 5 times. \n",
    "\n",
    "\n",
    "Lets look at a more complicated example.\n",
    "\n",
    "Generate the first 10 numbers in the [Fibonacci Sequence](https://en.wikipedia.org/wiki/Fibonacci_number)\n",
    "\n",
    "First, what is the Fibonacci Sequence?\n",
    "\n",
    "It is the sum of the previous two numbers, starting from 0, 1\n",
    "\n",
    "Lets design this using a `for` loop"
   ]
  },
  {
   "cell_type": "code",
   "execution_count": null,
   "metadata": {},
   "outputs": [],
   "source": [
    "# Fibonacci Sequence\n",
    "fib_0 = 0\n",
    "fib_1 = 1\n",
    "\n",
    "# first two numbers of the fibonacci sequence\n",
    "print(fib_0)\n",
    "print(fib_1)\n",
    "\n",
    "# print out the first 10 fibonacci numbers\n",
    "# only iterate 8 times, since we already have the first two numbers in the sequence\n",
    "for i in range(8):\n",
    "    sum_fib = fib_0 + fib_1\n",
    "    fib_0 = fib_1\n",
    "    fib_1 = #<----- fill in here\n",
    "    print(sum_fib)"
   ]
  },
  {
   "cell_type": "code",
   "execution_count": null,
   "metadata": {},
   "outputs": [],
   "source": [
    "# We can also combine conditional and loops.\n",
    "# print out the even numbers from 1-25\n",
    "# if the number is not even, do nothing\n",
    "\n",
    "for i in range(26):\n",
    "    # check if the number is even\n",
    "    if (i % 2 == 0):\n",
    "        print(\"{} is even!\".format(i))\n",
    "    else:\n",
    "        continue"
   ]
  },
  {
   "cell_type": "markdown",
   "metadata": {},
   "source": [
    "One more example using selection statements, lets determine what grade a student earns on an exam.\n",
    "\n",
    "Assume the grading scale is:\n",
    "* 90 and above : **A**\n",
    "* < 90 and > 80 : **B**\n",
    "* < 80 and > 70 : **C**\n",
    "* < 70 and > 60 : **D**\n",
    "* < 60          : **F**\n",
    "\n",
    "We are also going to use one more common structure in python, `lists`.\n",
    "\n",
    "Lists are like a container. You can put multiple things in a `list`, and then extract the things you put in it. We are going to store our `student_grade`'s in this `list`. We will then use a `for` loop to check each student and print out what their grade is."
   ]
  },
  {
   "cell_type": "code",
   "execution_count": null,
   "metadata": {},
   "outputs": [],
   "source": [
    "# Grade calculator\n",
    "\n",
    "student1_grade = 73\n",
    "student2_grade = 90.5\n",
    "student3_grade = 81\n",
    "student4_grade = 51\n",
    "student5_grade = 101\n",
    "student6_grade = 94\n",
    "\n",
    "# add the students to the list\n",
    "student_list = [student1_grade, student2_grade, student3_grade, student4_grade, student5_grade, student6_grade]\n",
    "print(type(student_list), student_list)\n",
    "\n",
    "# loop over the students and determine what their grade is\n",
    "for grade in student_list:\n",
    "    if (grade > 90):\n",
    "        print('With a grade of {}, this student earned an A.'.format(grade))\n",
    "    elif (grade < 90 and grade > 80):\n",
    "        print('With a grade of {}, this student earned a B.'.format(grade))\n",
    "    elif (grade < 80 and grade > 70):\n",
    "        print('With a grade of {}, this student earned a C.'.format(grade))\n",
    "    elif (grade < 70 and grade > 60):\n",
    "        print('With a grade of {}, this student earned a D.'.format(grade))\n",
    "    \n",
    "    # if a student did not earn an A-D, the only option left is an F\n",
    "    else:\n",
    "        print('With a grade of {}, this student earned an F.'.format(grade))"
   ]
  },
  {
   "cell_type": "markdown",
   "metadata": {},
   "source": [
    "#### Question 3: Intermediate\n",
    "* What data type is range()? \n",
    "* What happens if you print(range(5))? \n",
    "* What happens if you print(list(range(5)))?"
   ]
  },
  {
   "cell_type": "code",
   "execution_count": null,
   "metadata": {},
   "outputs": [],
   "source": [
    "# We can access information from a place in list by using slicing\n",
    "print(student_list)\n",
    "print(type(student_list[1]), student_list[1])\n",
    "# We can also get some Sub-list of the full list\n",
    "print(student_list[0:3]) #[start:stop]\n",
    "print(student_list[3:-1]) # -1 = end\n",
    "print(student_list[0:3:2]) # [start:stop:step]"
   ]
  },
  {
   "cell_type": "markdown",
   "metadata": {},
   "source": [
    "### Other storage Containers: Intermediate\n",
    "Data Types Covered:\n",
    "* Sets\n",
    "* Dictionaries\n",
    "---\n",
    "There are other ways to store information in Python other than lists. Two of the most common are **sets** `set` and **dictionaries** `dicts`. These both provide useful ways to store data. Dictionaries have two components, `keys` and `values`. These keys and values are uniquely paired, so whenever you check the dictionary with a key, it will return that paired value."
   ]
  },
  {
   "cell_type": "code",
   "execution_count": null,
   "metadata": {},
   "outputs": [],
   "source": [
    "# Create a dictionary from scratch\n",
    "test_dict = {\"Key1\":\"Value1\"}\n",
    "print(test_dict)\n",
    "print(test_dict[\"Key1\"])\n",
    "print(type(test_dict))\n",
    "# what do you predict the type of test_dict1[\"Key1\"] will be?"
   ]
  },
  {
   "cell_type": "code",
   "execution_count": null,
   "metadata": {},
   "outputs": [],
   "source": [
    "# Creating and accessing grade information for a dictionary\n",
    "all_grades = {}\n",
    "for i,grade in enumerate(student_list):\n",
    "    student_id = \"Student {}\".format(i)\n",
    "    all_grades[student_id] = grade\n",
    "print(all_grades)\n",
    "print(all_grades[\"Student 4\"])"
   ]
  },
  {
   "cell_type": "markdown",
   "metadata": {},
   "source": [
    "#### Question 4: Advanced\n",
    "Solve for the 35th element in the Fibonacci Sequence. </br>\n",
    "**Hint**: use [LRU cache](https://www.geeksforgeeks.org/python-lru-cache/) to reduce computation time"
   ]
  },
  {
   "cell_type": "code",
   "execution_count": null,
   "metadata": {},
   "outputs": [],
   "source": [
    "# Answer Question 4"
   ]
  },
  {
   "cell_type": "markdown",
   "metadata": {},
   "source": [
    "#### Question 5: Advanced\n",
    "The sum of the primes below 10 is 2 + 3 + 5 + 7 = 17.\n",
    "Find the sum of all the primes below two million."
   ]
  },
  {
   "cell_type": "code",
   "execution_count": null,
   "metadata": {},
   "outputs": [],
   "source": [
    "# Answer Question 5"
   ]
  }
 ],
 "metadata": {
  "kernelspec": {
   "display_name": "Python 3",
   "language": "python",
   "name": "python3"
  },
  "language_info": {
   "codemirror_mode": {
    "name": "ipython",
    "version": 3
   },
   "file_extension": ".py",
   "mimetype": "text/x-python",
   "name": "python",
   "nbconvert_exporter": "python",
   "pygments_lexer": "ipython3",
   "version": "3.9.10"
  }
 },
 "nbformat": 4,
 "nbformat_minor": 2
}
