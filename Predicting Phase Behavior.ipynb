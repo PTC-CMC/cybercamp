{
 "cells": [
  {
   "cell_type": "markdown",
   "id": "b43c086c-80c0-40ac-9397-0f2ef1c8cc9d",
   "metadata": {},
   "source": [
    "# Predicting phase behavior\n",
    "\n",
    "This notebook will focus on using molecular dynamics (MD) simulation to predict the phase behavior of point particles that interact via the Lennard-Jones potential. \n",
    "\n",
    "To perform these simulations we will use HOOMD-Blue, as we can easily and quickly run this from the jupyter notebook."
   ]
  },
  {
   "cell_type": "markdown",
   "id": "6517d0b0-8257-4bbb-925d-b76b31118808",
   "metadata": {},
   "source": [
    "## Single component Lennard-Jones system\n",
    "\n",
    "First, let us consider a single component system composed of Lennard-Jones (LJ) spheres, identical to what we have previously examined in prior notebooks.  Here, the goal is to use simulation to perform simulations of the LJ particles in different phases: solid, liquid and gas. \n",
    "\n",
    "We will do this by modifying the density and temperature of the simulation to move to different points in the phase diagram. \n",
    "\n",
    "The follow paper provides a clear phase diagram that we can use to direct our simulations:\n",
    ">T. E. Karakasidis, A. Fragkou, and A. Liakopoulos, \"System dynamics revealed by recurrence quantification analysis: Application to molecular dynamics simulations\" Phys. Rev. E 76, 021120 – Published 24 August 2007\n",
    "https://journals.aps.org/pre/abstract/10.1103/PhysRevE.76.021120\n",
    "\n",
    "\n"
   ]
  },
  {
   "cell_type": "code",
   "execution_count": null,
   "id": "7213dc5d-48d6-4267-8c44-9f9eb9feb14c",
   "metadata": {},
   "outputs": [],
   "source": [
    "from IPython.display import Image\n",
    "Image(url='img/lj_phase_diagram.png')  "
   ]
  },
  {
   "cell_type": "markdown",
   "id": "6c09723e-1d0b-480d-8e66-418b68e322e3",
   "metadata": {},
   "source": [
    "A common way to help evaluate the phase of a system is to use the radial distribution function (RDF, sometimes referred to as g(r)). In the RDF, we create a histogram of the distance between all particle pairs, normalized by the density of the system multipied by the volume of the bin (i.e., $\\rho *4 \\pi r^2dr$ where $\\rho$ is the number density and dr is the width of the bin). Systems where particle positions are strongly correlated will show larger values in the RDF. An example of the RDF for different phases is shown below.  See [this link](https://chem.libretexts.org/Bookshelves/Biological_Chemistry/Concepts_in_Biophysical_Chemistry_(Tokmakoff)/01%3A_Water_and_Aqueous_Solutions/01%3A_Fluids/1.02%3A_Radial_Distribution_Function) for more info on the RDF."
   ]
  },
  {
   "cell_type": "code",
   "execution_count": null,
   "id": "58a58a90-98ff-442c-9bef-2f67f6608b0e",
   "metadata": {},
   "outputs": [],
   "source": [
    "from IPython.display import Image\n",
    "Image(url='https://upload.wikimedia.org/wikipedia/commons/b/b8/Simulated_Radial_Distribution_Functions_for_Solid%2C_Liquid%2C_and_Gaseous_Argon.svg')"
   ]
  },
  {
   "cell_type": "markdown",
   "id": "4817454d-bfd4-4db2-87d5-7ba5bb19f532",
   "metadata": {},
   "source": [
    "We'll need to modify the prior simulation script to allow us to change the box volume to be able to change density.  A tutorial for modifying the box that provides step-by-step details is available in the (HOOMD-Blue documentation)[https://hoomd-blue.readthedocs.io/en/v3.2.0/tutorial/01-Introducing-Molecular-Dynamics/03-Compressing-the-System.html]. \n",
    "\n",
    "\n",
    "The structure of the script is now slightly changed compared to the prior examples. In the simulation runtime section, we now have 3 distinct stages:\n",
    "1) compression \n",
    "2) relaxation\n",
    "3) production\n",
    "\n",
    "The addition of the relaxation stage between compression and production is because we would like the system to reach a steady-state before we start collecting data for our final analysis. "
   ]
  },
  {
   "cell_type": "code",
   "execution_count": null,
   "id": "e9e0a634-1be2-421b-b4d1-0bb789828185",
   "metadata": {},
   "outputs": [],
   "source": [
    "import hoomd\n",
    "import gsd.hoomd\n",
    "\n",
    "\n",
    "cpu = hoomd.device.CPU()\n",
    "sim = hoomd.Simulation(device=cpu, seed=1)\n",
    "\n",
    "#########################\n",
    "# system initialization\n",
    "#########################\n",
    "\n",
    "sim.create_state_from_gsd(filename='datafiles/lj.gsd')\n",
    "\n",
    "#########################\n",
    "# interaction definition\n",
    "#########################\n",
    "\n",
    "cell = hoomd.md.nlist.Cell(buffer=1.0)\n",
    "lj = hoomd.md.pair.LJ(nlist=cell)\n",
    "lj.params[('LJ', 'LJ')] = dict(epsilon=1, sigma=1)\n",
    "lj.r_cut[('LJ', 'LJ')] = 2.5\n",
    "\n",
    "#########################\n",
    "# integrator setup\n",
    "#########################\n",
    "\n",
    "nvt = hoomd.md.methods.NVT(kT=1.0, filter=hoomd.filter.All(), tau=1.0)\n",
    "integrator = hoomd.md.Integrator(dt=0.005)\n",
    "integrator.forces.append(lj)\n",
    "integrator.methods.append(nvt)\n",
    "sim.operations.integrator = integrator\n",
    "\n",
    "#########################\n",
    "# runtime parameters\n",
    "#########################\n",
    "\n",
    "# add a logger to output the current step and timesteps per second (TPS) \n",
    "logger = hoomd.logging.Logger(categories=['scalar', 'string'])\n",
    "logger.add(sim, quantities=['timestep', 'tps'])\n",
    "table = hoomd.write.Table(trigger=hoomd.trigger.Periodic(period=5000),\n",
    "                          logger=logger)\n",
    "sim.operations.writers.append(table)\n",
    "\n",
    "# add a logger to output the thermodynamic data during the entire run \n",
    "thermodynamic_properties = hoomd.md.compute.ThermodynamicQuantities(filter=hoomd.filter.All())\n",
    "sim.operations.computes.append(thermodynamic_properties)\n",
    "\n",
    "log_thermo = hoomd.logging.Logger()\n",
    "log_thermo.add(thermodynamic_properties)\n",
    "gsd_thermo = hoomd.write.GSD(filename='thermo.gsd',\n",
    "                             trigger=hoomd.trigger.Periodic(100),\n",
    "                             mode='wb',\n",
    "                             filter=hoomd.filter.Null(),\n",
    "                             log=log_thermo)\n",
    "sim.operations.writers.append(gsd_thermo)\n",
    "\n",
    "# ================\n",
    "# compress the box\n",
    "# ================\n",
    "\n",
    "compression_time = 20000\n",
    "final_rho = 1.2\n",
    "\n",
    "\n",
    "ramp = hoomd.variant.Ramp(A=0, B=1, t_start=sim.timestep, t_ramp=compression_time)\n",
    "\n",
    "initial_box = sim.state.box\n",
    "final_box = hoomd.Box.from_box(initial_box)  # make a copy of initial_box\n",
    "final_box.volume = sim.state.N_particles / final_rho\n",
    "box_resize_trigger = hoomd.trigger.Periodic(10)\n",
    "box_resize = hoomd.update.BoxResize(box1=initial_box,\n",
    "                                    box2=final_box,\n",
    "                                    variant=ramp,\n",
    "                                    trigger=box_resize_trigger)\n",
    "sim.operations.updaters.append(box_resize)\n",
    "sim.run(compression_time+1)\n",
    "if sim.state.box == final_box:\n",
    "    print(\"system box size matches target\")\n",
    "    \n",
    "sim.operations.updaters.remove(box_resize)\n",
    "print(\"compression complete\")\n",
    "\n",
    "# ================\n",
    "# relaxation\n",
    "# ================\n",
    "\n",
    "sim.run(50000)\n",
    "print(\"relaxation complete\")\n",
    "\n",
    "# ================\n",
    "# production \n",
    "# ================\n",
    "\n",
    "log_traj = hoomd.logging.Logger()\n",
    "gsd_traj = hoomd.write.GSD(filename='trajectory.gsd',\n",
    "                             trigger=hoomd.trigger.Periodic(5000),\n",
    "                             mode='wb',\n",
    "                             filter=hoomd.filter.All(),\n",
    "                             log=log_traj)\n",
    "sim.operations.writers.append(gsd_traj)\n",
    "\n",
    "sim.run(50000)\n",
    "\n",
    "hoomd.write.GSD.write(state=sim.state, filename='final.gsd', mode='wb')\n",
    "print(\"simulation complete\")\n",
    "\n",
    "#delete the instances we defined ensure writers are closed\n",
    "del sim, gsd_thermo, gsd_traj, thermodynamic_properties, log_thermo, log_traj, logger, table\n",
    "del integrator, nvt, lj, cell, cpu"
   ]
  },
  {
   "cell_type": "markdown",
   "id": "bc34c0c3-384d-45cb-a55b-2fd797d98b99",
   "metadata": {},
   "source": [
    "Note we output the timesteps per second (TPS) during the simulation run.  Higher values mean the code is running more efficiently.  For a system where we compress from a density of 0.125 (density of particles in the lj.gsd data file) to a higher density, the TPS value drops during the compression stage.  Recall the discussion of neighorlists and cutoffs; as the system density increases, the number of neighbors we need to consider will also increase. \n",
    "\n",
    "### Exercise \n",
    "Pick a few statepoints from the phase diagram to simulate a crystal phase, adjusting the density and temperature.   \n",
    " * Examine the thermodynamic output (see below) to ensure that the system has reached a steady state. \n",
    " * Render the simulation trajectory as movie. Does the phase look like a well ordered solid?\n",
    " * Use the following code to calculate and plot the RDF. How does this compare the example plots above?\n",
    " * Repeat the same steps above, but choose a statepoint that would result in a fluid phase system.\n",
    " \n",
    " \n"
   ]
  },
  {
   "cell_type": "code",
   "execution_count": null,
   "id": "bed149ef-b46c-4bc1-a325-1f8a8f4fcbf8",
   "metadata": {},
   "outputs": [],
   "source": [
    "import matplotlib\n",
    "import matplotlib.pyplot as plt\n",
    "matplotlib.style.use('default')\n",
    "import mdtraj as md"
   ]
  },
  {
   "cell_type": "code",
   "execution_count": null,
   "id": "d7ccd083-df78-4d15-a01f-a0ad6a367e7d",
   "metadata": {},
   "outputs": [],
   "source": [
    "thermo_log = gsd.hoomd.open('thermo.gsd', 'rb')\n",
    "\n",
    "time = []\n",
    "pe = []\n",
    "for frame in thermo_log:\n",
    "    time.append(frame.configuration.step)\n",
    "    pe.append(frame.log['md/compute/ThermodynamicQuantities/potential_energy'][0])\n",
    "\n",
    "n = thermo_log[-1].log['md/compute/ThermodynamicQuantities/num_particles'][0]\n",
    "vol = thermo_log[-1].log['md/compute/ThermodynamicQuantities/volume'][0]\n",
    "\n",
    "print(\"density: \", n/vol)"
   ]
  },
  {
   "cell_type": "code",
   "execution_count": null,
   "id": "2672c427-24de-4e3c-bdcb-4c9313626b3a",
   "metadata": {},
   "outputs": [],
   "source": [
    "plt.plot(time, pe)\n",
    "plt.ylabel('potential energy')\n",
    "plt.xlabel('timestep')\n",
    "\n",
    "plt.show()"
   ]
  },
  {
   "cell_type": "code",
   "execution_count": null,
   "id": "1e1c3a34-e504-489f-9382-d4a246ca6d83",
   "metadata": {},
   "outputs": [],
   "source": [
    "traj = md.load('trajectory.gsd')\n",
    "traj.center_coordinates\n",
    "r_traj, g_r_traj = md.compute_rdf(traj,  r_range=[0, traj.unitcell_lengths[0][1]/2.0], \n",
    "                                pairs = traj.top.select_pairs(\"all\", \"all\"), \n",
    "                                  bin_width=0.01, periodic=True, opt=True)\n"
   ]
  },
  {
   "cell_type": "code",
   "execution_count": null,
   "id": "98a55211-dadc-4cc3-9648-39d6c0f146ac",
   "metadata": {},
   "outputs": [],
   "source": [
    "plt.plot(r_traj, g_r_traj)\n",
    "plt.ylabel('g(r)')\n",
    "plt.xlabel('r')\n",
    "\n",
    "plt.show()"
   ]
  },
  {
   "cell_type": "code",
   "execution_count": null,
   "id": "30751d6d-a90c-470a-87cd-a21ba348ef8e",
   "metadata": {},
   "outputs": [],
   "source": [
    "from fresnel_render import render\n",
    "from fresnel_render import render_movie\n",
    "\n",
    "traj_log = gsd.hoomd.open('trajectory.gsd', 'rb')\n",
    "\n",
    "render_movie(traj_log)"
   ]
  }
 ],
 "metadata": {
  "kernelspec": {
   "display_name": "Python 3 (ipykernel)",
   "language": "python",
   "name": "python3"
  },
  "language_info": {
   "codemirror_mode": {
    "name": "ipython",
    "version": 3
   },
   "file_extension": ".py",
   "mimetype": "text/x-python",
   "name": "python",
   "nbconvert_exporter": "python",
   "pygments_lexer": "ipython3",
   "version": "3.9.12"
  }
 },
 "nbformat": 4,
 "nbformat_minor": 5
}
